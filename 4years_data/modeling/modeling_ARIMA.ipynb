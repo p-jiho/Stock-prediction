{
 "cells": [
  {
   "cell_type": "markdown",
   "id": "d07fd050",
   "metadata": {},
   "source": [
    "# 논문 소개\n",
    "\n",
    "- stock price prediction using BERT and GAN\n",
    "    - 기간 : 2010년 7월부터 2020년 7월까지\n",
    "    - ARIMA : closing 데이터만 사용 => ARIMA((4,1,0)\n",
    "    - 다른 모델의 데이터 : technical indicators : moving average, bollinger Bands, Moving Average Convergence Divergence, RSI, Fourier transforms, NYSE, NASDAQ, S&P 500, stock exchange index(London, india, tokyo, hong kong, shanghai, chicage), oil, gold, us-dollar, google, amazon, microsoft"
   ]
  },
  {
   "cell_type": "code",
   "execution_count": 2,
   "id": "7e6ee7ad",
   "metadata": {},
   "outputs": [
    {
     "name": "stderr",
     "output_type": "stream",
     "text": [
      "C:\\Users\\default.DESKTOP-IT64657\\anaconda3\\lib\\site-packages\\scipy\\__init__.py:138: UserWarning: A NumPy version >=1.16.5 and <1.23.0 is required for this version of SciPy (detected version 1.23.3)\n",
      "  warnings.warn(f\"A NumPy version >={np_minversion} and <{np_maxversion} is required for this version of \"\n"
     ]
    }
   ],
   "source": [
    "import pandas as pd\n",
    "import numpy as np\n",
    "import regex as re\n",
    "    \n",
    "from tensorflow.keras.preprocessing.text import Tokenizer\n",
    "from sklearn.feature_extraction.text import TfidfVectorizer\n",
    "\n",
    "import nltk\n",
    "from nltk.tokenize import word_tokenize\n",
    "from nltk.corpus import stopwords\n",
    "from nltk.stem import WordNetLemmatizer\n",
    "\n",
    "\n",
    "from multiprocessing import Pool\n",
    "\n",
    "import warnings\n",
    "warnings.filterwarnings('ignore')\n",
    "import itertools\n",
    "\n",
    "import datetime\n",
    "\n",
    "import yfinance as yf\n",
    "from sklearn.preprocessing import MinMaxScaler\n",
    "from statsmodels.tsa.arima.model import ARIMA\n",
    "from sklearn.metrics import mean_squared_error\n",
    "import matplotlib.pyplot as plt\n"
   ]
  },
  {
   "cell_type": "code",
   "execution_count": 2,
   "id": "9bc11672",
   "metadata": {},
   "outputs": [],
   "source": [
    "year = list(map(str, list(range(2017,2023))))\n",
    "month = list(map(str, list(range(1,13))))\n",
    "\n",
    "for i in range(0,9):\n",
    "    month[i] = \"0\"+month[i]\n",
    "\n",
    "year_month = [0]*(12*5+4)\n",
    "\n",
    "k=0\n",
    "for i in range(len(year)):\n",
    "    for j in range(len(month)):\n",
    "        if k < len(year_month):\n",
    "            year_month[k] = year[i]+\"_\"+month[j]\n",
    "            k = k+1\n",
    "        else:\n",
    "            k=k+1"
   ]
  },
  {
   "cell_type": "code",
   "execution_count": 3,
   "id": "2bc6c387",
   "metadata": {},
   "outputs": [
    {
     "name": "stdout",
     "output_type": "stream",
     "text": [
      "0:00:56.700111\n"
     ]
    }
   ],
   "source": [
    "## 소문자 변환 - tit, txt에 적용(text, title을 토큰화한 리스트)\n",
    "def upper_to_lower_line(line):  ## 한 리스트의 한 문장씩 불러와서 upper_to_lower_word 적용\n",
    "    line = list(map(upper_to_lower_word,line))\n",
    "    return line\n",
    "\n",
    "def upper_to_lower_word(word):  ## string 형식, 한 문장의 한 단어씩 불러와서 대문자 변환   The -> the, THE -> THE\n",
    "    word = re.sub(\"^[A-Z]{1}[a-z]*$\",word.lower(),word)  ## 정규표현식에 맞는 단어만 lower 적용\n",
    "    return word\n",
    "\n",
    "\n",
    "\n",
    "\n",
    "\n",
    "## 표제어 추출 - tit, txt에 적용\n",
    "def lemmatization_line(line):   ## 한 리스트의 한 문장씩 불러와서 lemmatization_line 적용\n",
    "    line = list(map(lemmatization_word, line))\n",
    "    return line\n",
    "\n",
    "def lemmatization_word(data):  ## string 형식, 한 문장의 한 단어씩 불러와서 표제어 추출\n",
    "    n=WordNetLemmatizer()\n",
    "    data = n.lemmatize(data)\n",
    "    return data\n",
    "\n",
    "\n",
    "\n",
    "\n",
    "\n",
    "## 불용어 제거 - tit, txt에 적용\n",
    "def del_stopword(line):              ## 한 리스트의 한 문장씩 불러와서 dir_stopword_produce 적용\n",
    "    dir_stop_words = stopwords.words('english')  ## 불용어 사전\n",
    "    \n",
    "    line_stopwords_intersection = list(set(line)& set(dir_stop_words))   ## 각 문장과 불용어 사전에 동시에 있는 단어 추출\n",
    "    \n",
    "    # 각 문장마다 불용어 사전과 교집합인 사전 생성\n",
    "    \n",
    "    # 각 문장마다 교집합 사전에 해당하지 않는 값만 추출\n",
    "    line = difference(line, line_stopwords_intersection)  \n",
    "    \n",
    "    return line\n",
    "\n",
    "\n",
    "def difference(line, line_stopwords_intersection):      ## 각 문장, 각 문장과 불용어 사전의 교집합 입력\n",
    "    line = [i for i in line if i not in line_stopwords_intersection]  ## 불용어 사전에 해당하지 않는 단어만 추출\n",
    "    return line\n",
    "\n",
    "\n",
    "\n",
    "\n",
    "\n",
    "\n",
    "dir = \"C:/Users/default.DESKTOP-IT64657/Desktop/nbc/\"\n",
    "\n",
    "def loading(data):\n",
    "\n",
    "    ## ----------------------데이터 파일 불러오기--------------------------------------------------\n",
    "    f = open(dir+str(data)+\".txt\",\"r\", encoding = \"UTF-8\")\n",
    "    datas = f.readlines()\n",
    "    f.close()\n",
    "    \n",
    "    \n",
    "    \n",
    "    \n",
    "    ## ----------------------데이터 저장--------------------------------------------------\n",
    "    n =len(datas)\n",
    "    m=0\n",
    "    data = [0]*n\n",
    "    for line in datas:\n",
    "        data[m] = line.strip()   ## 한줄씩 읽기\n",
    "        m+=1\n",
    "        \n",
    "    for k in range(n):\n",
    "        data[k] = data[k].split(\" --- \")  ## 구분자를 이용해 구분\n",
    "    \n",
    "    data = pd.DataFrame(data)\n",
    "    data.columns = [\"catagory\", \"date\", \"title\", \"text\", \"author\"]  # specify the column name\n",
    "    data.index = list(range(len(data)))\n",
    "    \n",
    "    \n",
    "    \n",
    "    \n",
    "    \n",
    "    ## ----------------------데이터 구조 변경----------------------------------------------------\n",
    "    data_title_indx = np.array(np.where(data.iloc[:,3].isnull())[0])\n",
    "    data_title = data.iloc[data_title_indx,:]\n",
    "    data_text_indx = np.array(np.where(data.iloc[:,4].isnull())[0])\n",
    "    data_text = data.iloc[np.setdiff1d(data_text_indx, data_title_indx),:]\n",
    "    \n",
    "    \n",
    "    \n",
    "    # case 1. title만 있는 경우 변경\n",
    "    data_1_indx = np.intersect1d(data_title_indx,data[data[\"title\"] == \" ---\"].index)\n",
    "    data_1 = data.iloc[data_1_indx,:] ## case 1에 맞는 데이터\n",
    "    data_1.title = data_1.date\n",
    "    data_1.loc[:,[\"catagory\", \"date\"]] = None\n",
    "    data.iloc[data_1_indx,:] = data_1\n",
    "    \n",
    "    \n",
    "    \n",
    "    # case 2. title과 text만 있는 경우 변경\n",
    "    data_2_indx = np.setdiff1d(data_title_indx, data_1_indx)\n",
    "    data_2 = data.iloc[data_2_indx,:]\n",
    "    data_2.text = data_2.title\n",
    "    data_2.title = data_2.date\n",
    "    data_2.loc[:,[\"catagory\", \"date\"]] = None\n",
    "    data.iloc[data_2_indx,:] = data_2\n",
    "    \n",
    "    \n",
    "    \n",
    "    # case 3. title, text, author만 있는 경우\n",
    "    data_3_indx = np.intersect1d(data_text_indx,data[data[\"catagory\"] == \"--- \"].index)\n",
    "    data_3 = data.iloc[data_3_indx,:]\n",
    "    data_3.author = data_3.text\n",
    "    data_3.text = data_3.title\n",
    "    data_3.title = data_3.date\n",
    "    data_3.loc[:,[\"catagory\", \"date\"]] = None\n",
    "    data.iloc[data_3_indx,:] = data_3\n",
    "\n",
    "    \n",
    "    \n",
    "    # 기사 최초 작성일만 추출\n",
    "    data.date = data.date.str.split(\"/\").str[0]\n",
    "\n",
    "    \n",
    "    \n",
    "    \n",
    "    \n",
    "    ## ----------------------불필요한 데이터 제거----------------------------------------------------\n",
    "    date_null_ind = np.array(np.where(data.iloc[:,[1]].isnull())[0])\n",
    "    date_black_ind = np.array(np.where(data.date==\"\")[0])\n",
    "    \n",
    "    del_date_ind = np.concatenate((date_null_ind, date_black_ind)) # date 열이 None인 행의 인덱스 추출\n",
    "    data = data.drop(del_date_ind)  # 인덱스에 해당하는 행 삭제 즉, date 열이 None인 행 삭제\n",
    "    \n",
    "    \n",
    "    \n",
    "    \n",
    "    \n",
    "    ## ----------------------데이터 시간 형식 변경----------------------------------------------------\n",
    "    ## 원래 date : Jan. 1, 2021, 12:23 AM UTC \n",
    "    ## 가공된 date : 2021-01-01 00:23:00\n",
    "    data.date = data.date.apply(lambda x:x.strip(\" UTC\\xa0\")) ## data의 date 열에서 UTC\\xa0이나 UTC에 해당하는 부분 삭제\n",
    "    data.date = data.date.apply(lambda x:x.strip(\" UTC\"))\n",
    "\n",
    "    data.date = data.date.apply(lambda x: pd.to_datetime(x, errors=\"ignore\"))  ## datetime 형식으로 변경\n",
    "    \n",
    "    # 기준 이전의 날짜는 자르기\n",
    "    data = data[data.date>=\"2017-01-01\"]\n",
    "    data = data[data.date<\"2022-05-01\"]\n",
    "    \n",
    "    \n",
    "    \n",
    "    ## ----------------------구두점 제거----------------------------------------------------\n",
    "    fullstop = re.compile(r'[,—\"“”‘’\\'-?:!;\\\\]')\n",
    "    data.title = data.title.apply(lambda x: fullstop.sub(\" \",x))  ## title에서 제거\n",
    "    \n",
    "    \n",
    "    \n",
    "    ## ----------------------토큰화----------------------------------------------------\n",
    "    title = list(map(word_tokenize, data.title))\n",
    "    \n",
    "    \n",
    "    \n",
    "    \n",
    "    ## ----------------------대문자 소문자 변환----------------------------------------------------\n",
    "    title = list(map(upper_to_lower_line, title)) ## 첫번째 문자만 대문자인 경우 소문자로 변환\n",
    "    \n",
    "    \n",
    "    \n",
    "    \n",
    "    ## ----------------------표제어 추출----------------------------------------------------\n",
    "    title = list(map(lemmatization_line, title))\n",
    "    \n",
    "    \n",
    "    \n",
    "    ## ----------------------불용어 제거----------------------------------------------------\n",
    "    title = list(map(del_stopword, title))\n",
    "    \n",
    "    \n",
    "    \n",
    "    ## ----------------------데이터 프레임으로 형식 변환----------------------------------------------------\n",
    "    title = pd.DataFrame(title)    # 데이터를 정리하기 위해서 변환이 필요\n",
    "    \n",
    "    return [data, title]\n",
    "\n",
    "start = datetime.datetime.now()\n",
    "\n",
    "df = list(map(loading, year_month))\n",
    "print(datetime.datetime.now()-start)\n",
    "\n",
    "original_news = [0]*len(df)\n",
    "title = [0]*len(df)\n",
    "for i in range(len(df)):\n",
    "    original_news[i],title[i] = df[i]\n",
    "\n",
    "original_news = pd.concat(original_news, axis=0)\n",
    "title = pd.concat(title, axis=0)"
   ]
  },
  {
   "cell_type": "code",
   "execution_count": 4,
   "id": "f6d0a065",
   "metadata": {},
   "outputs": [
    {
     "name": "stdout",
     "output_type": "stream",
     "text": [
      "0:00:01.446131\n"
     ]
    }
   ],
   "source": [
    "start = datetime.datetime.now()\n",
    "title = title.where(pd.notnull(title), None)\n",
    "print(datetime.datetime.now()-start)"
   ]
  },
  {
   "cell_type": "code",
   "execution_count": 5,
   "id": "f3dce58b",
   "metadata": {},
   "outputs": [
    {
     "name": "stdout",
     "output_type": "stream",
     "text": [
      "0:00:00.856074\n"
     ]
    }
   ],
   "source": [
    "## 빈도수 기반 사전 생성\n",
    "def del_list_None(lst):\n",
    "    lst = list(filter(None, lst))\n",
    "    return lst\n",
    "\n",
    "start = datetime.datetime.now()  ## 시작 시간\n",
    "\n",
    "title = title.values.tolist()  ## 데이터프레임 -> list\n",
    "title = list(map(del_list_None, title))   ## 변환하면서 생긴 None 삭제\n",
    "\n",
    "frequent_title = pd.DataFrame(pd.Series(list(itertools.chain(*title))).value_counts())   ## tit에 있는 단어들의 빈도수 추출\n",
    "title_less_frequent_word = list(frequent_title[4 >= frequent_title[0]].index)     ## 빈도가 4 이하인 단어를 추출\n",
    "\n",
    "print(datetime.datetime.now()-start)  # 끝나는 시간"
   ]
  },
  {
   "cell_type": "code",
   "execution_count": 11,
   "id": "bb365d6b",
   "metadata": {},
   "outputs": [
    {
     "name": "stdout",
     "output_type": "stream",
     "text": [
      "0:01:07.168177\n"
     ]
    }
   ],
   "source": [
    "def del_less_frequent_title(line):  ## 리스트의 한 line  [\"a\",\"b\",\"c\"]\n",
    "    line_frequent_intersection = list(set(line)& set(title_less_frequent_word))   ## 불용어 사전과 동일하게 각 line과 불용어의 교집합 사전을 만들어 해당되는 값 제거\n",
    "    data = difference(line, line_frequent_intersection)\n",
    "    return data\n",
    "\n",
    "start = datetime.datetime.now()\n",
    "title = list(map(del_list_None, title))\n",
    "title = list(map(del_less_frequent_title, title))\n",
    "print(datetime.datetime.now()-start)"
   ]
  },
  {
   "cell_type": "code",
   "execution_count": 12,
   "id": "21291272",
   "metadata": {},
   "outputs": [],
   "source": [
    "for i in range(len(title)-1):\n",
    "    i += 1\n",
    "    title[0].extend(title[i])\n",
    "title = title[0]"
   ]
  },
  {
   "cell_type": "code",
   "execution_count": 13,
   "id": "af2f87cc",
   "metadata": {},
   "outputs": [],
   "source": [
    "title = pd.DataFrame(title)"
   ]
  },
  {
   "cell_type": "code",
   "execution_count": 3,
   "id": "ac312537",
   "metadata": {},
   "outputs": [
    {
     "name": "stdout",
     "output_type": "stream",
     "text": [
      "[*********************100%***********************]  1 of 1 completed\n"
     ]
    }
   ],
   "source": [
    "price_data = yf.download(['^DJI'],start = '2016-12-31', end = \"2022-05-01\")"
   ]
  },
  {
   "cell_type": "code",
   "execution_count": 4,
   "id": "a724e75a",
   "metadata": {},
   "outputs": [],
   "source": [
    "\n",
    "close = price_data[\"Close\"]"
   ]
  },
  {
   "cell_type": "code",
   "execution_count": null,
   "id": "faa32ad7",
   "metadata": {},
   "outputs": [],
   "source": [
    "# 이동평균\n",
    "close_MA_7 = close.rolling(7).mean()\n",
    "close_MA_21 = close.rolling(21).mean()\n",
    "\n",
    "close_EMA_7 = close.ewm(span=7).mean()\n",
    "close_EMA_21 = close.ewm(span=21).mean()"
   ]
  },
  {
   "cell_type": "code",
   "execution_count": null,
   "id": "7cc32b70",
   "metadata": {},
   "outputs": [],
   "source": [
    "# bollinger Bands\n",
    "close_MA_7_st = close.rolling(7).std()\n",
    "close_BB_7_upper = close_MA_7 + 20*close_MA_7_st\n",
    "close_BB_7_lower = close_MA_7 - 20*close_MA_7_st\n",
    "\n",
    "close_MA_21_st = close.rolling(21).std()\n",
    "close_BB_21_upper = close_MA_21 + 20*close_MA_21_st\n",
    "close_BB_21_lower = close_MA_21 - 20*close_MA_21_st"
   ]
  },
  {
   "cell_type": "code",
   "execution_count": null,
   "id": "a4626760",
   "metadata": {},
   "outputs": [],
   "source": [
    "# MACD\n",
    "macd_short_n, macd_long_n, macd_signal_n = 12,26,9 #기본값\n",
    "\n",
    "MACD_short = close.ewm(span=macd_short_n).mean()\n",
    "\n",
    "MACD_long = close.ewm(span=macd_long_n).mean()\n",
    "\n",
    "MACD = MACD_short - MACD_long\n",
    "\n",
    "MACD_signal = MACD.ewm(span=macd_signal_n).mean() "
   ]
  },
  {
   "cell_type": "code",
   "execution_count": null,
   "id": "bde5e45e",
   "metadata": {},
   "outputs": [],
   "source": [
    "# RSI\n",
    "amount_of_change = close - close.shift(1)   #변화량\n",
    "up = np.where(amount_of_change>=0, amount_of_change, 0) #상승폭\n",
    "down = np.where(amount_of_change <0, amount_of_change.abs(), 0)  #하락폭\n",
    "\n",
    "up = pd.DataFrame(up)\n",
    "down = pd.DataFrame(down)\n",
    "\n",
    "# welles moving average\n",
    "au = up.ewm(alpha=1/14, min_periods=14).mean()\n",
    "ad = down.ewm(alpha=1/14, min_periods=14).mean()\n",
    "RSI_14 = au / (au + ad) * 100"
   ]
  },
  {
   "cell_type": "code",
   "execution_count": null,
   "id": "2fb936d8",
   "metadata": {},
   "outputs": [],
   "source": [
    "#Fourier transforms\n",
    "sp = np.fft.fft(close)\n",
    "csp3 = np.copy(sp)\n",
    "csp3[3:-3]=0\n",
    "iffted_close_3 = np.fft.ifft(csp3)\n",
    "\n",
    "csp6 = np.copy(sp)\n",
    "csp6[6:-6]=0\n",
    "iffted_close_6 = np.fft.ifft(csp6)\n",
    "\n",
    "csp9 = np.copy(sp)\n",
    "csp9[9:-9]=0\n",
    "iffted_close_9 = np.fft.ifft(csp9)\n",
    "\n",
    "iffted_close_3 = pd.DataFrame(iffted_close_3)\n",
    "iffted_close_3.index = close.index\n",
    "\n",
    "iffted_close_6 = pd.DataFrame(iffted_close_6)\n",
    "iffted_close_6.index = close.index\n",
    "\n",
    "iffted_close_9 = pd.DataFrame(iffted_close_9)\n",
    "iffted_close_9.index = close.index"
   ]
  },
  {
   "cell_type": "code",
   "execution_count": null,
   "id": "c11da8a1",
   "metadata": {},
   "outputs": [],
   "source": [
    "nyse = yf.download(['^NYA'],start = '2016-12-31', end = \"2022-05-01\")[\"Close\"]\n",
    "nasdaq = yf.download(['^IXIC'],start = '2016-12-31', end = \"2022-05-01\")[\"Close\"]\n",
    "sp500 = yf.download(['^GSPC'],start = '2016-12-31', end = \"2022-05-01\")[\"Close\"]\n",
    "oil = yf.download(['CL=F'],start = '2016-12-31', end = \"2022-05-01\")[\"Close\"]\n",
    "gold = yf.download(['GC=F'],start = '2016-12-31', end = \"2022-05-01\")[\"Close\"]\n",
    "dollar = yf.download(['DX=F'],start = '2016-12-31', end = \"2022-05-01\")[\"Close\"]\n",
    "google = yf.download(['GOOG'],start = '2016-12-31', end = \"2022-05-01\")[\"Close\"]\n",
    "amazon = yf.download(['AMZN'],start = '2016-12-31', end = \"2022-05-01\")[\"Close\"]\n",
    "microsoft = yf.download(['MSFT'],start = '2016-12-31', end = \"2022-05-01\")[\"Close\"]\n",
    "london = yf.download(['^FTSE'],start = '2016-12-31', end = \"2022-05-01\")[\"Close\"]\n",
    "tokyo = yf.download(['^N225'],start = '2016-12-31', end = \"2022-05-01\")[\"Close\"]\n",
    "india = yf.download(['^BSESN'],start = '2016-12-31', end = \"2022-05-01\")[\"Close\"]\n",
    "hongkong = yf.download(['0388.HK'],start = '2016-12-31', end = \"2022-05-01\")[\"Close\"]\n",
    "chicago = yf.download(['CME'],start = '2016-12-31', end = \"2022-05-01\")[\"Close\"]\n",
    "shanghai = yf.download(['000001.SS'],start = '2016-12-31', end = \"2022-05-01\")[\"Close\"]"
   ]
  },
  {
   "cell_type": "markdown",
   "id": "a36af210",
   "metadata": {},
   "source": [
    "# 1. nbc 데이터로 ARIMA 적용\n",
    "\n",
    "- feature을 준비했으나 수가 맞지않아 메일로 질문 -> 답이 안옴\n",
    "- ARIMA 모델은 closing data 만 기존과 동일하게 사용하여 적용\n",
    "- 논문에서는 ARIMA 모델의 window size를 3으로 설정하였지만 구글링을 해도 방법을 찾을 수 없어 메일로 질문 -> 답이 안옴\n",
    "- 그래서 ARIMA(4,1,0)과 closing data을 사용했다는 정보만을 이용해 실습\n",
    "- 논문에서는 APPLE을 사용했지만 나는 다우존스를 사용 -> APPLE을 사용한 경우 RMSE는 "
   ]
  },
  {
   "cell_type": "code",
   "execution_count": 16,
   "id": "855eec2b",
   "metadata": {},
   "outputs": [
    {
     "name": "stdout",
     "output_type": "stream",
     "text": [
      "[*********************100%***********************]  1 of 1 completed\n"
     ]
    }
   ],
   "source": [
    "price_data = yf.download(['^DJI'],start = '2016-12-31', end = \"2022-05-01\")\n",
    "close = price_data[\"Close\"]"
   ]
  },
  {
   "cell_type": "code",
   "execution_count": 17,
   "id": "33788bdf",
   "metadata": {},
   "outputs": [],
   "source": [
    "close = pd.DataFrame(close)\n",
    "close = pd.DataFrame(MinMaxScaler().fit_transform(close))"
   ]
  },
  {
   "cell_type": "code",
   "execution_count": 80,
   "id": "d84df9e3",
   "metadata": {},
   "outputs": [],
   "source": [
    "# window size 지정\n",
    "#window_size = 3\n",
    "#close_3 = np.zeros(shape=(len(close)-window_size+1,window_size,1))\n",
    "#for i in range(len(close)-window_size+1):\n",
    "#    close_3[i]=np.vstack((close[i:i+window_size]))"
   ]
  },
  {
   "cell_type": "code",
   "execution_count": 18,
   "id": "3523d479",
   "metadata": {},
   "outputs": [],
   "source": [
    "train = close.iloc[:int(len(close)*0.7)]\n",
    "test = close.iloc[int(len(close)*0.7):]"
   ]
  },
  {
   "cell_type": "code",
   "execution_count": 20,
   "id": "ecd7c96f",
   "metadata": {},
   "outputs": [],
   "source": [
    "train = train.squeeze()\n",
    "test = test.squeeze()"
   ]
  },
  {
   "cell_type": "code",
   "execution_count": 14,
   "id": "74640b20",
   "metadata": {},
   "outputs": [],
   "source": [
    "test = test.reset_index(drop=True)"
   ]
  },
  {
   "cell_type": "code",
   "execution_count": 12,
   "id": "15124ced",
   "metadata": {},
   "outputs": [],
   "source": [
    "history = [x for x in train]"
   ]
  },
  {
   "cell_type": "code",
   "execution_count": 85,
   "id": "e33fefae",
   "metadata": {},
   "outputs": [],
   "source": [
    "predictions = list()"
   ]
  },
  {
   "cell_type": "code",
   "execution_count": 86,
   "id": "9f24561a",
   "metadata": {},
   "outputs": [],
   "source": [
    "for t in range(len(test)):\n",
    "    model = ARIMA(history, order=(4,1,0))\n",
    "    model_fit = model.fit()\n",
    "    forecast_test = model_fit.forecast()\n",
    "    yhat = forecast_test[0]\n",
    "    predictions.append(yhat)\n",
    "    obs = test[t]\n",
    "    history.append(obs)\n"
   ]
  },
  {
   "cell_type": "code",
   "execution_count": 90,
   "id": "c58a231c",
   "metadata": {},
   "outputs": [
    {
     "data": {
      "text/plain": [
       "(0.0002870217698609515, 0.016941716851044095)"
      ]
     },
     "execution_count": 90,
     "metadata": {},
     "output_type": "execute_result"
    }
   ],
   "source": [
    "from sklearn.metrics import mean_squared_error\n",
    "mean_squared_error(test, predictions),np.sqrt(mean_squared_error(test, predictions))"
   ]
  },
  {
   "cell_type": "code",
   "execution_count": 88,
   "id": "27b049e7",
   "metadata": {},
   "outputs": [],
   "source": [
    "predictions = pd.DataFrame(predictions)\n",
    "predictions.index = test.index"
   ]
  },
  {
   "cell_type": "code",
   "execution_count": 92,
   "id": "7062b660",
   "metadata": {},
   "outputs": [
    {
     "data": {
      "text/plain": [
       "[<matplotlib.lines.Line2D at 0x18aa9f1e7f0>]"
      ]
     },
     "execution_count": 92,
     "metadata": {},
     "output_type": "execute_result"
    },
    {
     "data": {
      "image/png": "[encoded data removed]",
      "text/plain": [
       "<Figure size 432x288 with 1 Axes>"
      ]
     },
     "metadata": {
      "needs_background": "light"
     },
     "output_type": "display_data"
    }
   ],
   "source": [
    "plt.plot(predictions, color = \"blue\")\n",
    "plt.plot(test, color = \"red\")"
   ]
  },
  {
   "cell_type": "code",
   "execution_count": 91,
   "id": "972e859c",
   "metadata": {},
   "outputs": [
    {
     "data": {
      "text/plain": [
       "[<matplotlib.lines.Line2D at 0x18aa9eae520>]"
      ]
     },
     "execution_count": 91,
     "metadata": {},
     "output_type": "execute_result"
    },
    {
     "data": {
      "image/png": "[encoded data removed]",
      "text/plain": [
       "<Figure size 432x288 with 1 Axes>"
      ]
     },
     "metadata": {
      "needs_background": "light"
     },
     "output_type": "display_data"
    }
   ],
   "source": [
    "plt.plot(predictions[100:150], color = \"blue\")\n",
    "plt.plot(test[100:150], color = \"red\")"
   ]
  },
  {
   "cell_type": "code",
   "execution_count": null,
   "id": "317ee391",
   "metadata": {},
   "outputs": [],
   "source": []
  }
 ],
 "metadata": {
  "kernelspec": {
   "display_name": "Python 3 (ipykernel)",
   "language": "python",
   "name": "python3"
  },
  "language_info": {
   "codemirror_mode": {
    "name": "ipython",
    "version": 3
   },
   "file_extension": ".py",
   "mimetype": "text/x-python",
   "name": "python",
   "nbconvert_exporter": "python",
   "pygments_lexer": "ipython3",
   "version": "3.8.10"
  }
 },
 "nbformat": 4,
 "nbformat_minor": 5
}
