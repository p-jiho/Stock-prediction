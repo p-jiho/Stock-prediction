{
 "cells": [
  {
   "cell_type": "code",
   "execution_count": 26,
   "id": "16fc8eef-411b-4dfd-8eeb-c8eb7c334bd8",
   "metadata": {},
   "outputs": [
    {
     "name": "stderr",
     "output_type": "stream",
     "text": [
      "2022-11-13 22:48:10.774195: I tensorflow/core/platform/cpu_feature_guard.cc:193] This TensorFlow binary is optimized with oneAPI Deep Neural Network Library (oneDNN) to use the following CPU instructions in performance-critical operations:  AVX2 AVX512F AVX512_VNNI FMA\n",
      "To enable them in other operations, rebuild TensorFlow with the appropriate compiler flags.\n",
      "2022-11-13 22:48:10.913667: I tensorflow/core/util/util.cc:169] oneDNN custom operations are on. You may see slightly different numerical results due to floating-point round-off errors from different computation orders. To turn them off, set the environment variable `TF_ENABLE_ONEDNN_OPTS=0`.\n",
      "2022-11-13 22:48:10.917725: W tensorflow/stream_executor/platform/default/dso_loader.cc:64] Could not load dynamic library 'libcudart.so.11.0'; dlerror: libcudart.so.11.0: cannot open shared object file: No such file or directory\n",
      "2022-11-13 22:48:10.917738: I tensorflow/stream_executor/cuda/cudart_stub.cc:29] Ignore above cudart dlerror if you do not have a GPU set up on your machine.\n",
      "2022-11-13 22:48:10.937168: E tensorflow/stream_executor/cuda/cuda_blas.cc:2981] Unable to register cuBLAS factory: Attempting to register factory for plugin cuBLAS when one has already been registered\n",
      "2022-11-13 22:48:11.414853: W tensorflow/stream_executor/platform/default/dso_loader.cc:64] Could not load dynamic library 'libnvinfer.so.7'; dlerror: libnvinfer.so.7: cannot open shared object file: No such file or directory\n",
      "2022-11-13 22:48:11.414918: W tensorflow/stream_executor/platform/default/dso_loader.cc:64] Could not load dynamic library 'libnvinfer_plugin.so.7'; dlerror: libnvinfer_plugin.so.7: cannot open shared object file: No such file or directory\n",
      "2022-11-13 22:48:11.414923: W tensorflow/compiler/tf2tensorrt/utils/py_utils.cc:38] TF-TRT Warning: Cannot dlopen some TensorRT libraries. If you would like to use Nvidia GPU with TensorRT, please make sure the missing libraries mentioned above are installed properly.\n"
     ]
    }
   ],
   "source": [
    "import pandas as pd\n",
    "import yfinance as yf\n",
    "from sklearn.preprocessing import MinMaxScaler\n",
    "import numpy as np\n",
    "import tensorflow as tf"
   ]
  },
  {
   "cell_type": "code",
   "execution_count": 5,
   "id": "e9839f95-e191-44fe-b3d4-e96cfe69712f",
   "metadata": {},
   "outputs": [],
   "source": [
    "dir = \"/home/whfhrs3260/csv_data/\""
   ]
  },
  {
   "cell_type": "code",
   "execution_count": 6,
   "id": "950489a5-518f-4d10-83d2-b2b8c635ddc5",
   "metadata": {},
   "outputs": [],
   "source": [
    "score = pd.read_csv(dir+\"/price_data_score.csv\")\n",
    "score.columns = [\"Date\", \"Score\", \"class_3\", \"class_5\"]\n",
    "score = score[[\"Date\",\"class_3\"]]"
   ]
  },
  {
   "cell_type": "code",
   "execution_count": 8,
   "id": "91cc6a1a-b0f6-41d6-ab0d-5f9d74e695f2",
   "metadata": {},
   "outputs": [
    {
     "name": "stdout",
     "output_type": "stream",
     "text": [
      "[*********************100%***********************]  1 of 1 completed\n"
     ]
    }
   ],
   "source": [
    "price_data = yf.download([\"^DJI\"],start = '2017-01-01', end = \"2022-05-01\")\n",
    "price_data = price_data.reset_index()"
   ]
  },
  {
   "cell_type": "code",
   "execution_count": 10,
   "id": "fd46e350-92c2-4dbc-a6cf-18c53916a39c",
   "metadata": {},
   "outputs": [
    {
     "name": "stdout",
     "output_type": "stream",
     "text": [
      "[*********************100%***********************]  1 of 1 completed\n"
     ]
    }
   ],
   "source": [
    "first_data = yf.download([\"^DJI\"],start = '2016-12-30', end = '2017-01-01')"
   ]
  },
  {
   "cell_type": "code",
   "execution_count": 11,
   "id": "14898f1f-2c89-47d9-8b1e-f428b3e7df59",
   "metadata": {},
   "outputs": [
    {
     "data": {
      "text/html": [
       "<div>\n",
       "<style scoped>\n",
       "    .dataframe tbody tr th:only-of-type {\n",
       "        vertical-align: middle;\n",
       "    }\n",
       "\n",
       "    .dataframe tbody tr th {\n",
       "        vertical-align: top;\n",
       "    }\n",
       "\n",
       "    .dataframe thead th {\n",
       "        text-align: right;\n",
       "    }\n",
       "</style>\n",
       "<table border=\"1\" class=\"dataframe\">\n",
       "  <thead>\n",
       "    <tr style=\"text-align: right;\">\n",
       "      <th></th>\n",
       "      <th>Open</th>\n",
       "      <th>High</th>\n",
       "      <th>Low</th>\n",
       "      <th>Close</th>\n",
       "      <th>Adj Close</th>\n",
       "      <th>Volume</th>\n",
       "    </tr>\n",
       "    <tr>\n",
       "      <th>Date</th>\n",
       "      <th></th>\n",
       "      <th></th>\n",
       "      <th></th>\n",
       "      <th></th>\n",
       "      <th></th>\n",
       "      <th></th>\n",
       "    </tr>\n",
       "  </thead>\n",
       "  <tbody>\n",
       "    <tr>\n",
       "      <th>2016-12-30</th>\n",
       "      <td>19833.169922</td>\n",
       "      <td>19852.550781</td>\n",
       "      <td>19718.669922</td>\n",
       "      <td>19762.599609</td>\n",
       "      <td>19762.599609</td>\n",
       "      <td>271910000</td>\n",
       "    </tr>\n",
       "  </tbody>\n",
       "</table>\n",
       "</div>"
      ],
      "text/plain": [
       "                    Open          High           Low         Close  \\\n",
       "Date                                                                 \n",
       "2016-12-30  19833.169922  19852.550781  19718.669922  19762.599609   \n",
       "\n",
       "               Adj Close     Volume  \n",
       "Date                                 \n",
       "2016-12-30  19762.599609  271910000  "
      ]
     },
     "execution_count": 11,
     "metadata": {},
     "output_type": "execute_result"
    }
   ],
   "source": [
    "first_data"
   ]
  },
  {
   "cell_type": "code",
   "execution_count": 12,
   "id": "3cdbec4f-0954-413b-926c-4c90069b30c2",
   "metadata": {},
   "outputs": [],
   "source": [
    "def time_conversion(time):\n",
    "    time = pd.Timestamp(time)\n",
    "    return time\n",
    "\n",
    "score.Date = score.Date.apply(lambda x: time_conversion(x))"
   ]
  },
  {
   "cell_type": "code",
   "execution_count": 13,
   "id": "855ba94c-8c7c-43f3-a77d-ee0775dd5600",
   "metadata": {},
   "outputs": [
    {
     "name": "stderr",
     "output_type": "stream",
     "text": [
      "/tmp/ipykernel_30923/2391332866.py:6: SettingWithCopyWarning: \n",
      "A value is trying to be set on a copy of a slice from a DataFrame\n",
      "\n",
      "See the caveats in the documentation: https://pandas.pydata.org/pandas-docs/stable/user_guide/indexing.html#returning-a-view-versus-a-copy\n",
      "  price_data.before_close[i+1] = price_data.Close[i]\n"
     ]
    }
   ],
   "source": [
    "price_data = pd.merge(price_data, score, how =\"left\",left_on='Date', right_on = \"Date\")[[\"Close\",\"Open\",\"High\",\"Low\",\"Adj Close\",\"class_3\"]]\n",
    "price_data.class_3[price_data.class_3.isnull()]=0\n",
    "price_data[\"before_close\"] = 0\n",
    "price_data = price_data.reset_index(drop=True)\n",
    "for i in range(len(price_data)-1):\n",
    "    price_data.before_close[i+1] = price_data.Close[i]\n",
    "    \n",
    "price_data.before_close[0] = first_data[\"Close\"][0]\n",
    "\n",
    "for i in range(len(price_data)):\n",
    "    price_data.High[len(price_data)-i] =price_data.High[len(price_data)-i-1]\n",
    "    price_data.Open[len(price_data)-i] =price_data.Open[len(price_data)-i-1]\n",
    "    price_data.Low[len(price_data)-i] =price_data.Low[len(price_data)-i-1]\n",
    "    price_data[\"Adj Close\"][len(price_data)-i] =price_data[\"Adj Close\"][len(price_data)-i-1]\n",
    "\n",
    "price_data.High[0] = first_data[\"High\"][0]\n",
    "price_data.Open[0] = first_data[\"Open\"][0]\n",
    "price_data.Low[0] = first_data[\"Low\"][0]\n",
    "price_data[\"Adj Close\"][0] = first_data[\"Adj Close\"][0]\n",
    "\n",
    "price_data.columns = [\"Close\",\"before_Open\",\"before_High\",\"before_Low\",\"before_Adj Close\",\"class_3\",\"before_close\"]"
   ]
  },
  {
   "cell_type": "code",
   "execution_count": 17,
   "id": "8b882722-42b2-478c-b4cb-5d126365afac",
   "metadata": {},
   "outputs": [],
   "source": [
    "x = price_data[[\"class_3\",\"before_close\"]]\n",
    "y = price_data[[\"Close\"]]\n",
    "scaler_x = MinMaxScaler()\n",
    "scaler_y = MinMaxScaler()\n",
    "\n",
    "x = pd.DataFrame(scaler_x.fit_transform(x))\n",
    "y = pd.DataFrame(scaler_y.fit_transform(y))\n",
    "\n",
    "x.columns = [\"class_3\",\"before_close\"]\n",
    "y.columns = [\"Close\"]\n",
    "\n",
    "train_index = int(len(x)*0.7)\n",
    "\n",
    "train_x = x.iloc[0:train_index]\n",
    "test_x = x.iloc[train_index:len(x)]\n",
    "\n",
    "train_y = y.iloc[0:train_index]\n",
    "test_y = y.iloc[train_index:len(y)]"
   ]
  },
  {
   "cell_type": "code",
   "execution_count": 18,
   "id": "0ee94f5a-7591-4bf9-af5a-14bdf3e20a62",
   "metadata": {},
   "outputs": [],
   "source": [
    "train_x = train_x.to_numpy().reshape(train_x.shape[0],1,train_x.shape[1])\n",
    "train_y = train_y.to_numpy().reshape(train_y.shape[0],train_y.shape[1])\n",
    "test_x = test_x.to_numpy().reshape(test_x.shape[0],1,test_x.shape[1])\n",
    "test_y = test_y.to_numpy().reshape(test_y.shape[0],test_y.shape[1])"
   ]
  },
  {
   "cell_type": "code",
   "execution_count": 22,
   "id": "7d7b1d52-50d2-4da3-a5a0-381f56d45491",
   "metadata": {},
   "outputs": [],
   "source": [
    "window_size = 30"
   ]
  },
  {
   "cell_type": "code",
   "execution_count": 23,
   "id": "d0407d8b-c305-46dc-8756-9b65d3d271b5",
   "metadata": {},
   "outputs": [],
   "source": [
    "x = np.zeros(shape=(train_x.shape[0]-window_size+1,window_size,x.shape[1]))\n",
    "for i in range(train_x.shape[0]-window_size+1):\n",
    "    x[i]=np.vstack((train_x[i:i+window_size]))\n",
    "\n",
    "y = train_y[window_size-1:train_x.shape[0]]\n",
    "\n",
    "x_t = np.zeros(shape=(test_x.shape[0]-window_size+1,window_size,x.shape[2]))\n",
    "for i in range(test_x.shape[0]-window_size+1):\n",
    "    x_t[i]=np.vstack((test_x[i:i+window_size]))\n",
    "    \n",
    "y_t = test_y[window_size-1:test_x.shape[0]]"
   ]
  },
  {
   "cell_type": "code",
   "execution_count": null,
   "id": "9ed350f4-f76f-4cdc-aab6-785d59310e9d",
   "metadata": {},
   "outputs": [],
   "source": []
  },
  {
   "cell_type": "code",
   "execution_count": 49,
   "id": "7f8629ac-7863-42a7-939f-f9edfbdbd7a7",
   "metadata": {},
   "outputs": [],
   "source": [
    "generator = tf.keras.Sequential([\n",
    "    tf.keras.layers.Input(shape=(1024,1)),\n",
    "    tf.keras.layers.GRU(1024,return_sequences=True),\n",
    "    tf.keras.layers.Dropout(0.2),\n",
    "    tf.keras.layers.GRU(512,return_sequences=True),\n",
    "    tf.keras.layers.Dropout(0.2),\n",
    "    tf.keras.layers.GRU(256),\n",
    "    tf.keras.layers.Dropout(0.2),\n",
    "    tf.keras.layers.Dense(128),\n",
    "    tf.keras.layers.Dense(64),\n",
    "    tf.keras.layers.Dense(1)])"
   ]
  },
  {
   "cell_type": "code",
   "execution_count": 52,
   "id": "061e8696-a558-43ed-93d7-99573ddaae96",
   "metadata": {},
   "outputs": [],
   "source": [
    "discriminator = tf.keras.Sequential([\n",
    "    tf.keras.layers.Input(shape=(935,2)),\n",
    "    tf.keras.layers.Conv1D(32,3),\n",
    "    tf.keras.layers.LeakyReLU(0.01),\n",
    "    tf.keras.layers.Conv1D(64,5),\n",
    "    tf.keras.layers.LeakyReLU(0.01),\n",
    "    tf.keras.layers.Conv1D(128,5),\n",
    "    tf.keras.layers.LeakyReLU(0.01),\n",
    "    tf.keras.layers.Flatten(),\n",
    "    tf.keras.layers.Dense(220),\n",
    "    tf.keras.layers.LeakyReLU(),\n",
    "    tf.keras.layers.Dense(220, activation=\"relu\"),\n",
    "    tf.keras.layers.Dense(1, activation = \"sigmoid\")])\n"
   ]
  },
  {
   "cell_type": "code",
   "execution_count": null,
   "id": "c28f12f1-3a97-4aa7-ae80-a41f85c72c12",
   "metadata": {},
   "outputs": [],
   "source": [
    "def train(input):\n",
    "    with tf.GradientTape() as t1, tf.GradientTape() as t2:\n",
    "        g = generator(tf.random.normal([1, 1024]))\n",
    "        g_d = discriminator(g)\n",
    "        d = discriminator(input)\n",
    "        \n",
    "        loss_d = -tf.reduce_mean(tf.math.log(d) + tf.math.log(1-g_d))\n",
    "        loss_g = -tf.reduce_mean(tf.math.log(g_d))\n",
    "        \n",
    "    d_upgrade = t1.gradient(loss_d, discriminator.trainable_variables)\n",
    "    g_upgrade = t2.gradient(loss_g, generator.trainable_variables)"
   ]
  }
 ],
 "metadata": {
  "kernelspec": {
   "display_name": "Python 3 (ipykernel)",
   "language": "python",
   "name": "python3"
  },
  "language_info": {
   "codemirror_mode": {
    "name": "ipython",
    "version": 3
   },
   "file_extension": ".py",
   "mimetype": "text/x-python",
   "name": "python",
   "nbconvert_exporter": "python",
   "pygments_lexer": "ipython3",
   "version": "3.8.10"
  }
 },
 "nbformat": 4,
 "nbformat_minor": 5
}
