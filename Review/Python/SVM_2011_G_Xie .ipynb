{
 "cells": [
  {
   "cell_type": "code",
   "execution_count": 2,
   "id": "21cce197-cfab-48e1-a37c-b42d3bdfb829",
   "metadata": {},
   "outputs": [],
   "source": [
    "# The optimization of share price prediction model based on support vector machine, 2011"
   ]
  },
  {
   "cell_type": "code",
   "execution_count": 51,
   "id": "1e7ee1d0-42e9-483b-96af-d773d0b56bd9",
   "metadata": {},
   "outputs": [],
   "source": [
    "import yfinance as yf\n",
    "import numpy as np\n",
    "import pandas as pd\n",
    "\n",
    "from sklearn.svm import SVR\n",
    "from sklearn.metrics import mean_absolute_error\n",
    "from sklearn.metrics import mean_squared_error\n",
    "from sklearn.preprocessing import MinMaxScaler\n",
    "\n",
    "import train_test as tt"
   ]
  },
  {
   "cell_type": "code",
   "execution_count": 74,
   "id": "a19126dd-0368-4978-9700-317080485a21",
   "metadata": {},
   "outputs": [],
   "source": [
    "def MAPE(y_test, y_pred):\n",
    "    return np.mean(np.abs((y_test - y_pred) / y_test)) * 100 "
   ]
  },
  {
   "cell_type": "code",
   "execution_count": 75,
   "id": "a663c772-7a56-4599-ac6a-c952507cac0d",
   "metadata": {},
   "outputs": [],
   "source": [
    "####################### 논문 재현 ###################"
   ]
  },
  {
   "cell_type": "code",
   "execution_count": 81,
   "id": "2dd1035b-fae7-448c-9694-1115ab60b245",
   "metadata": {},
   "outputs": [
    {
     "name": "stdout",
     "output_type": "stream",
     "text": [
      "[*********************100%***********************]  1 of 1 completed\n"
     ]
    },
    {
     "name": "stderr",
     "output_type": "stream",
     "text": [
      "/tmp/ipykernel_1083611/677405865.py:5: SettingWithCopyWarning: \n",
      "A value is trying to be set on a copy of a slice from a DataFrame.\n",
      "Try using .loc[row_indexer,col_indexer] = value instead\n",
      "\n",
      "See the caveats in the documentation: https://pandas.pydata.org/pandas-docs/stable/user_guide/indexing.html#returning-a-view-versus-a-copy\n",
      "  price_data[[\"Open\",\"High\",\"Low\",\"Volume\"]] = price_data[[\"Open\",\"High\",\"Low\",\"Volume\"]].shift(lag_n)\n"
     ]
    }
   ],
   "source": [
    "price_data = yf.download(\"BESTEAST.BO\",start = '2010-09-01', end = \"2010-12-18\")\n",
    "price_data = price_data[[\"Open\",\"High\",\"Low\",\"Close\",\"Volume\"]]\n",
    "\n",
    "lag_n = 3\n",
    "price_data[[\"Open\",\"High\",\"Low\",\"Volume\"]] = price_data[[\"Open\",\"High\",\"Low\",\"Volume\"]].shift(lag_n)\n",
    "price_data = price_data[lag_n:len(price_data)]"
   ]
  },
  {
   "cell_type": "code",
   "execution_count": 82,
   "id": "24e5b95a-ba9f-4063-9643-612f93cd834c",
   "metadata": {},
   "outputs": [],
   "source": [
    "x = price_data[[\"Open\",\"High\",\"Low\",\"Volume\"]]\n",
    "y = price_data[[\"Close\"]]\n",
    "\n",
    "scaler_x = MinMaxScaler()\n",
    "scaler_y = MinMaxScaler()\n",
    "\n",
    "x = pd.DataFrame(scaler_x.fit_transform(x))\n",
    "y = pd.DataFrame(scaler_y.fit_transform(y))\n",
    "\n",
    "train_n = 60\n",
    "train_x = x[0:train_n]\n",
    "train_y = y[0:train_n]\n",
    "\n",
    "test_x = x[train_n:len(price_data)]\n",
    "test_y = y[train_n:len(price_data)]\n"
   ]
  },
  {
   "cell_type": "code",
   "execution_count": 83,
   "id": "69e043cc-d704-400d-9a62-2a4994541437",
   "metadata": {},
   "outputs": [
    {
     "name": "stderr",
     "output_type": "stream",
     "text": [
      "/home/whfhrs3260/.local/lib/python3.8/site-packages/sklearn/utils/validation.py:1111: DataConversionWarning: A column-vector y was passed when a 1d array was expected. Please change the shape of y to (n_samples, ), for example using ravel().\n",
      "  y = column_or_1d(y, warn=True)\n"
     ]
    },
    {
     "data": {
      "text/html": [
       "<style>#sk-container-id-7 {color: black;background-color: white;}#sk-container-id-7 pre{padding: 0;}#sk-container-id-7 div.sk-toggleable {background-color: white;}#sk-container-id-7 label.sk-toggleable__label {cursor: pointer;display: block;width: 100%;margin-bottom: 0;padding: 0.3em;box-sizing: border-box;text-align: center;}#sk-container-id-7 label.sk-toggleable__label-arrow:before {content: \"▸\";float: left;margin-right: 0.25em;color: #696969;}#sk-container-id-7 label.sk-toggleable__label-arrow:hover:before {color: black;}#sk-container-id-7 div.sk-estimator:hover label.sk-toggleable__label-arrow:before {color: black;}#sk-container-id-7 div.sk-toggleable__content {max-height: 0;max-width: 0;overflow: hidden;text-align: left;background-color: #f0f8ff;}#sk-container-id-7 div.sk-toggleable__content pre {margin: 0.2em;color: black;border-radius: 0.25em;background-color: #f0f8ff;}#sk-container-id-7 input.sk-toggleable__control:checked~div.sk-toggleable__content {max-height: 200px;max-width: 100%;overflow: auto;}#sk-container-id-7 input.sk-toggleable__control:checked~label.sk-toggleable__label-arrow:before {content: \"▾\";}#sk-container-id-7 div.sk-estimator input.sk-toggleable__control:checked~label.sk-toggleable__label {background-color: #d4ebff;}#sk-container-id-7 div.sk-label input.sk-toggleable__control:checked~label.sk-toggleable__label {background-color: #d4ebff;}#sk-container-id-7 input.sk-hidden--visually {border: 0;clip: rect(1px 1px 1px 1px);clip: rect(1px, 1px, 1px, 1px);height: 1px;margin: -1px;overflow: hidden;padding: 0;position: absolute;width: 1px;}#sk-container-id-7 div.sk-estimator {font-family: monospace;background-color: #f0f8ff;border: 1px dotted black;border-radius: 0.25em;box-sizing: border-box;margin-bottom: 0.5em;}#sk-container-id-7 div.sk-estimator:hover {background-color: #d4ebff;}#sk-container-id-7 div.sk-parallel-item::after {content: \"\";width: 100%;border-bottom: 1px solid gray;flex-grow: 1;}#sk-container-id-7 div.sk-label:hover label.sk-toggleable__label {background-color: #d4ebff;}#sk-container-id-7 div.sk-serial::before {content: \"\";position: absolute;border-left: 1px solid gray;box-sizing: border-box;top: 0;bottom: 0;left: 50%;z-index: 0;}#sk-container-id-7 div.sk-serial {display: flex;flex-direction: column;align-items: center;background-color: white;padding-right: 0.2em;padding-left: 0.2em;position: relative;}#sk-container-id-7 div.sk-item {position: relative;z-index: 1;}#sk-container-id-7 div.sk-parallel {display: flex;align-items: stretch;justify-content: center;background-color: white;position: relative;}#sk-container-id-7 div.sk-item::before, #sk-container-id-7 div.sk-parallel-item::before {content: \"\";position: absolute;border-left: 1px solid gray;box-sizing: border-box;top: 0;bottom: 0;left: 50%;z-index: -1;}#sk-container-id-7 div.sk-parallel-item {display: flex;flex-direction: column;z-index: 1;position: relative;background-color: white;}#sk-container-id-7 div.sk-parallel-item:first-child::after {align-self: flex-end;width: 50%;}#sk-container-id-7 div.sk-parallel-item:last-child::after {align-self: flex-start;width: 50%;}#sk-container-id-7 div.sk-parallel-item:only-child::after {width: 0;}#sk-container-id-7 div.sk-dashed-wrapped {border: 1px dashed gray;margin: 0 0.4em 0.5em 0.4em;box-sizing: border-box;padding-bottom: 0.4em;background-color: white;}#sk-container-id-7 div.sk-label label {font-family: monospace;font-weight: bold;display: inline-block;line-height: 1.2em;}#sk-container-id-7 div.sk-label-container {text-align: center;}#sk-container-id-7 div.sk-container {/* jupyter's `normalize.less` sets `[hidden] { display: none; }` but bootstrap.min.css set `[hidden] { display: none !important; }` so we also need the `!important` here to be able to override the default hidden behavior on the sphinx rendered scikit-learn.org. See: https://github.com/scikit-learn/scikit-learn/issues/21755 */display: inline-block !important;position: relative;}#sk-container-id-7 div.sk-text-repr-fallback {display: none;}</style><div id=\"sk-container-id-7\" class=\"sk-top-container\"><div class=\"sk-text-repr-fallback\"><pre>SVR(C=102.2, epsilon=0.01, gamma=0.0625)</pre><b>In a Jupyter environment, please rerun this cell to show the HTML representation or trust the notebook. <br />On GitHub, the HTML representation is unable to render, please try loading this page with nbviewer.org.</b></div><div class=\"sk-container\" hidden><div class=\"sk-item\"><div class=\"sk-estimator sk-toggleable\"><input class=\"sk-toggleable__control sk-hidden--visually\" id=\"sk-estimator-id-7\" type=\"checkbox\" checked><label for=\"sk-estimator-id-7\" class=\"sk-toggleable__label sk-toggleable__label-arrow\">SVR</label><div class=\"sk-toggleable__content\"><pre>SVR(C=102.2, epsilon=0.01, gamma=0.0625)</pre></div></div></div></div></div>"
      ],
      "text/plain": [
       "SVR(C=102.2, epsilon=0.01, gamma=0.0625)"
      ]
     },
     "execution_count": 83,
     "metadata": {},
     "output_type": "execute_result"
    }
   ],
   "source": [
    "model = SVR(kernel = 'rbf', C=102.2, gamma = 0.0625, epsilon= 0.01)\n",
    "model.fit(train_x, train_y)"
   ]
  },
  {
   "cell_type": "code",
   "execution_count": 84,
   "id": "d15f8e07-8a69-4785-b287-092e5130f274",
   "metadata": {},
   "outputs": [],
   "source": [
    "svr_pred = np.reshape(model.predict(test_x),(len(model.predict(test_x)),1))\n",
    "\n",
    "svr_pred = scaler_y.inverse_transform(svr_pred)\n",
    "test_y = scaler_y.inverse_transform(test_y)\n",
    "\n",
    "svr_mae = mean_absolute_error(test_y, svr_pred)\n",
    "svr_mse = mean_squared_error(test_y, svr_pred)\n",
    "svr_rmse = np.sqrt(mean_squared_error(test_y, svr_pred))\n",
    "svr_mape = MAPE(test_y, svr_pred)"
   ]
  },
  {
   "cell_type": "code",
   "execution_count": 85,
   "id": "2acc10ea-b596-4d9e-9eb0-879c47cb1a5b",
   "metadata": {},
   "outputs": [
    {
     "data": {
      "text/plain": [
       "(1.6813534843125009, 2.826949539209787, 1.4086947075168845, 11.798792057730575)"
      ]
     },
     "execution_count": 85,
     "metadata": {},
     "output_type": "execute_result"
    }
   ],
   "source": [
    "svr_rmse, svr_mse, svr_mae, svr_mape"
   ]
  },
  {
   "cell_type": "code",
   "execution_count": 43,
   "id": "220b3cfc-aa72-46ae-8b5e-0eae65272c0b",
   "metadata": {},
   "outputs": [],
   "source": [
    "######################### 논문 재현 다우존스 ######################"
   ]
  },
  {
   "cell_type": "code",
   "execution_count": 45,
   "id": "e86433f3-dd59-4605-92dd-73983d654db4",
   "metadata": {},
   "outputs": [
    {
     "name": "stdout",
     "output_type": "stream",
     "text": [
      "[*********************100%***********************]  1 of 1 completed\n"
     ]
    },
    {
     "name": "stderr",
     "output_type": "stream",
     "text": [
      "/tmp/ipykernel_1083611/696687641.py:5: SettingWithCopyWarning: \n",
      "A value is trying to be set on a copy of a slice from a DataFrame.\n",
      "Try using .loc[row_indexer,col_indexer] = value instead\n",
      "\n",
      "See the caveats in the documentation: https://pandas.pydata.org/pandas-docs/stable/user_guide/indexing.html#returning-a-view-versus-a-copy\n",
      "  price_data[[\"Open\",\"High\",\"Low\",\"Volume\"]] = price_data[[\"Open\",\"High\",\"Low\",\"Volume\"]].shift(lag_n)\n",
      "/home/whfhrs3260/.local/lib/python3.8/site-packages/sklearn/utils/validation.py:1111: DataConversionWarning: A column-vector y was passed when a 1d array was expected. Please change the shape of y to (n_samples, ), for example using ravel().\n",
      "  y = column_or_1d(y, warn=True)\n",
      "/home/whfhrs3260/.local/lib/python3.8/site-packages/numpy/core/fromnumeric.py:3430: FutureWarning: In a future version, DataFrame.mean(axis=None) will return a scalar mean over the entire DataFrame. To retain the old behavior, use 'frame.mean(axis=0)' or just 'frame.mean()'\n",
      "  return mean(axis=axis, dtype=dtype, out=out, **kwargs)\n"
     ]
    }
   ],
   "source": [
    "price_data = yf.download(\"^DJI\",start = '2010-09-01', end = \"2010-12-18\")\n",
    "price_data = price_data[[\"Open\",\"High\",\"Low\",\"Close\",\"Volume\"]]\n",
    "\n",
    "lag_n = 3\n",
    "price_data[[\"Open\",\"High\",\"Low\",\"Volume\"]] = price_data[[\"Open\",\"High\",\"Low\",\"Volume\"]].shift(lag_n)\n",
    "price_data = price_data[lag_n:len(price_data)]\n",
    "\n",
    "train_n = 60\n",
    "train_x = price_data[[\"Open\",\"High\",\"Low\",\"Volume\"]][0:train_n]\n",
    "train_y = price_data[[\"Close\"]][0:train_n]\n",
    "\n",
    "test_x = price_data[[\"Open\",\"High\",\"Low\",\"Volume\"]][train_n:len(price_data)]\n",
    "test_y = price_data[[\"Close\"]][train_n:len(price_data)]\n",
    "\n",
    "model = SVR(kernel = 'rbf', C=102.2, gamma = 0.0625, epsilon= 0.01)\n",
    "model.fit(train_x, train_y)\n",
    "\n",
    "svr_pred = np.reshape(model.predict(test_x),(len(model.predict(test_x)),1))\n",
    "\n",
    "svr_mae = mean_absolute_error(test_y, svr_pred)\n",
    "svr_mse = mean_squared_error(test_y, svr_pred)\n",
    "svr_rmse = np.sqrt(mean_squared_error(test_y, svr_pred))\n",
    "svr_mape = MAPE(test_y, svr_pred)"
   ]
  },
  {
   "cell_type": "code",
   "execution_count": 46,
   "id": "a6dfd96a-1f72-42ee-9b5d-71fa1b74ebfe",
   "metadata": {},
   "outputs": [
    {
     "data": {
      "text/plain": [
       "(368.5732480687675,\n",
       " 135846.2391919612,\n",
       " 362.72438333151246,\n",
       " Close    3.177996\n",
       " dtype: float64)"
      ]
     },
     "execution_count": 46,
     "metadata": {},
     "output_type": "execute_result"
    }
   ],
   "source": [
    "svr_rmse, svr_mse, svr_mae, svr_mape"
   ]
  },
  {
   "cell_type": "code",
   "execution_count": 13,
   "id": "66eb3058-1d1b-4e3c-ae52-7b52de535517",
   "metadata": {},
   "outputs": [],
   "source": [
    "########################## (news, past_close) 2 variable 결과 ##################"
   ]
  },
  {
   "cell_type": "code",
   "execution_count": 34,
   "id": "432a5374-bbc1-468f-9816-1349b4d12cbe",
   "metadata": {},
   "outputs": [
    {
     "name": "stdout",
     "output_type": "stream",
     "text": [
      "[*********************100%***********************]  1 of 1 completed\n"
     ]
    },
    {
     "name": "stderr",
     "output_type": "stream",
     "text": [
      "/home/whfhrs3260/Python/10year_data/review/train_test.py:63: SettingWithCopyWarning: \n",
      "A value is trying to be set on a copy of a slice from a DataFrame\n",
      "\n",
      "See the caveats in the documentation: https://pandas.pydata.org/pandas-docs/stable/user_guide/indexing.html#returning-a-view-versus-a-copy\n",
      "  set_news_data_date.price_date[i]=standard  + datetime.timedelta(days=1)\n"
     ]
    },
    {
     "name": "stdout",
     "output_type": "stream",
     "text": [
      "[*********************100%***********************]  1 of 1 completed\n"
     ]
    },
    {
     "name": "stderr",
     "output_type": "stream",
     "text": [
      "/home/whfhrs3260/Python/10year_data/review/train_test.py:100: SettingWithCopyWarning: \n",
      "A value is trying to be set on a copy of a slice from a DataFrame\n",
      "\n",
      "See the caveats in the documentation: https://pandas.pydata.org/pandas-docs/stable/user_guide/indexing.html#returning-a-view-versus-a-copy\n",
      "  price_data.before_close[i+1] = price_data.Close[i]\n"
     ]
    }
   ],
   "source": [
    "# price data, window = 1\n",
    "dir = \"/home/whfhrs3260/csv_data/price_data_score_10years.csv\"\n",
    "stock = \"^DJI\"\n",
    "variable = [\"before_close\",\"Score\"]\n",
    "window_size = 1\n",
    "start_date = \"2012-01-01\"\n",
    "end_date = \"2022-04-30\"\n",
    "\n",
    "scaler_x, scaler_y, x, y, x_t, y_t = tt.train_test_result(dir, stock, variable, window_size, start_date, end_date)"
   ]
  },
  {
   "cell_type": "code",
   "execution_count": 35,
   "id": "b8962cab-c85f-4ad6-8a95-3b3a37e05658",
   "metadata": {},
   "outputs": [
    {
     "name": "stderr",
     "output_type": "stream",
     "text": [
      "/home/whfhrs3260/.local/lib/python3.8/site-packages/sklearn/utils/validation.py:1111: DataConversionWarning: A column-vector y was passed when a 1d array was expected. Please change the shape of y to (n_samples, ), for example using ravel().\n",
      "  y = column_or_1d(y, warn=True)\n"
     ]
    }
   ],
   "source": [
    "\n",
    "x = x.reshape(len(x),window_size*len(variable))\n",
    "y = y.reshape(len(y),1)\n",
    "x_t = x_t.reshape(len(x_t),window_size*len(variable))\n",
    "y_t = y_t.reshape(len(y_t),1)\n",
    "\n",
    "model = SVR(kernel = 'rbf', C=102.2, gamma = 0.0625, epsilon= 0.01)\n",
    "model.fit(x, y)\n",
    "\n",
    "\n",
    "#예측값\n",
    "svr_pred = np.reshape(model.predict(x_t),(len(model.predict(x_t)),1))\n",
    "\n",
    "svr_pred = scaler_y.inverse_transform(svr_pred)\n",
    "y_t = scaler_y.inverse_transform(y_t)\n",
    "    \n",
    "svr_mae = mean_absolute_error(y_t, svr_pred)\n",
    "svr_mse = mean_squared_error(y_t, svr_pred)\n",
    "svr_rmse = np.sqrt(mean_squared_error(y_t, svr_pred))\n",
    "svr_mape = MAPE(y_t, svr_pred)"
   ]
  },
  {
   "cell_type": "code",
   "execution_count": 36,
   "id": "9277cdb7-74a7-4a1f-946a-78ff9b578aa7",
   "metadata": {},
   "outputs": [
    {
     "data": {
      "text/plain": [
       "(419.72512148306237,\n",
       " 176169.17760397148,\n",
       " 296.44836919586527,\n",
       " 1.0205721915419257)"
      ]
     },
     "execution_count": 36,
     "metadata": {},
     "output_type": "execute_result"
    }
   ],
   "source": [
    "svr_rmse, svr_mse, svr_mae, svr_mape"
   ]
  },
  {
   "cell_type": "code",
   "execution_count": null,
   "id": "d08cf90a-1997-4ea4-b1fd-b4b7af68d575",
   "metadata": {},
   "outputs": [],
   "source": []
  }
 ],
 "metadata": {
  "kernelspec": {
   "display_name": "Python 3 (ipykernel)",
   "language": "python",
   "name": "python3"
  },
  "language_info": {
   "codemirror_mode": {
    "name": "ipython",
    "version": 3
   },
   "file_extension": ".py",
   "mimetype": "text/x-python",
   "name": "python",
   "nbconvert_exporter": "python",
   "pygments_lexer": "ipython3",
   "version": "3.8.10"
  }
 },
 "nbformat": 4,
 "nbformat_minor": 5
}
