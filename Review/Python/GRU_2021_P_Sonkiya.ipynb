{
 "cells": [
  {
   "cell_type": "code",
   "execution_count": null,
   "id": "07344831-5a1d-432c-a842-69ce8602b3f0",
   "metadata": {},
   "outputs": [],
   "source": [
    "## Stock price prediction using BERT and GAN, 2017"
   ]
  },
  {
   "cell_type": "code",
   "execution_count": 6,
   "id": "d3385674-c5da-4508-8db8-9790161d44e2",
   "metadata": {},
   "outputs": [],
   "source": [
    "import yfinance as yf\n",
    "import numpy as np\n",
    "import pandas as pd\n",
    "\n",
    "from sklearn.metrics import mean_squared_error \n",
    "from sklearn.metrics import mean_absolute_error\n",
    "import tensorflow as tf\n",
    "from tensorflow.keras.layers import Dense, GRU, Dropout\n",
    "from tensorflow.keras.models import Sequential\n",
    "from keras import optimizers\n",
    "from keras import backend as K\n",
    "\n",
    "import random\n",
    "import train_test as tt\n",
    "import os"
   ]
  },
  {
   "cell_type": "code",
   "execution_count": 7,
   "id": "3e8be954-ad7f-4abf-aaa7-602031b5a028",
   "metadata": {},
   "outputs": [],
   "source": [
    "def MAPE(y_test, y_pred):\n",
    "    return np.mean(np.abs((y_test - y_pred) / y_test)) * 100 \n",
    "\n",
    "def root_mean_squared_error(y_true, y_pred):\n",
    "        return K.sqrt(K.mean(K.square(y_pred - y_true)))"
   ]
  },
  {
   "cell_type": "code",
   "execution_count": 8,
   "id": "9209e10d-1987-4129-b9f4-a0e46f18296f",
   "metadata": {},
   "outputs": [],
   "source": [
    "def seed_everything(seed: int = 42):\n",
    "    random.seed(seed)\n",
    "    np.random.seed(seed)\n",
    "    os.environ[\"PYTHONHASHSEED\"] = str(seed)\n",
    "    tf.random.set_seed(seed)\n",
    "\n",
    "seed_everything(42)"
   ]
  },
  {
   "cell_type": "code",
   "execution_count": 9,
   "id": "b1476e5e-0640-4a08-a6bf-a1864e0c2979",
   "metadata": {},
   "outputs": [],
   "source": [
    "################################### 논문 재현(변수 다르고, APPLE 사용) #######################"
   ]
  },
  {
   "cell_type": "code",
   "execution_count": 10,
   "id": "24302d9f-aae9-4a96-81c8-64fc4a4c7ca5",
   "metadata": {
    "scrolled": true,
    "tags": []
   },
   "outputs": [
    {
     "name": "stdout",
     "output_type": "stream",
     "text": [
      "[*********************100%***********************]  1 of 1 completed\n"
     ]
    },
    {
     "name": "stderr",
     "output_type": "stream",
     "text": [
      "/home/whfhrs3260/Python/10year_data/review/train_test.py:69: SettingWithCopyWarning: \n",
      "A value is trying to be set on a copy of a slice from a DataFrame\n",
      "\n",
      "See the caveats in the documentation: https://pandas.pydata.org/pandas-docs/stable/user_guide/indexing.html#returning-a-view-versus-a-copy\n",
      "  set_news_data_date.price_date[i]=standard  + datetime.timedelta(days=1)\n"
     ]
    },
    {
     "name": "stdout",
     "output_type": "stream",
     "text": [
      "[*********************100%***********************]  1 of 1 completed\n"
     ]
    },
    {
     "name": "stderr",
     "output_type": "stream",
     "text": [
      "/home/whfhrs3260/Python/10year_data/review/train_test.py:110: SettingWithCopyWarning: \n",
      "A value is trying to be set on a copy of a slice from a DataFrame\n",
      "\n",
      "See the caveats in the documentation: https://pandas.pydata.org/pandas-docs/stable/user_guide/indexing.html#returning-a-view-versus-a-copy\n",
      "  price_data.before_close[i+1] = price_data.Close[i]\n"
     ]
    },
    {
     "name": "stdout",
     "output_type": "stream",
     "text": [
      "Epoch 1/50\n"
     ]
    },
    {
     "name": "stderr",
     "output_type": "stream",
     "text": [
      "/home/whfhrs3260/.local/lib/python3.8/site-packages/keras/optimizers/optimizer_v2/adam.py:117: UserWarning: The `lr` argument is deprecated, use `learning_rate` instead.\n",
      "  super().__init__(name, **kwargs)\n"
     ]
    },
    {
     "name": "stdout",
     "output_type": "stream",
     "text": [
      "12/12 [==============================] - 3s 58ms/step - loss: 0.0068 - val_loss: 0.0139\n",
      "Epoch 2/50\n",
      "12/12 [==============================] - 0s 16ms/step - loss: 0.0026 - val_loss: 0.0030\n",
      "Epoch 3/50\n",
      "12/12 [==============================] - 0s 18ms/step - loss: 8.8960e-04 - val_loss: 3.8567e-04\n",
      "Epoch 4/50\n",
      "12/12 [==============================] - 0s 19ms/step - loss: 2.0395e-04 - val_loss: 6.9813e-05\n",
      "Epoch 5/50\n",
      "12/12 [==============================] - 0s 18ms/step - loss: 1.2128e-04 - val_loss: 4.2914e-05\n",
      "Epoch 6/50\n",
      "12/12 [==============================] - 0s 18ms/step - loss: 5.1732e-05 - val_loss: 5.2018e-05\n",
      "Epoch 7/50\n",
      "12/12 [==============================] - 0s 19ms/step - loss: 2.7632e-05 - val_loss: 3.6609e-05\n",
      "Epoch 8/50\n",
      "12/12 [==============================] - 0s 19ms/step - loss: 2.2304e-05 - val_loss: 2.5068e-05\n",
      "Epoch 9/50\n",
      "12/12 [==============================] - 0s 19ms/step - loss: 2.0584e-05 - val_loss: 2.4061e-05\n",
      "Epoch 10/50\n",
      "12/12 [==============================] - 0s 19ms/step - loss: 2.0698e-05 - val_loss: 2.4451e-05\n",
      "Epoch 11/50\n",
      "12/12 [==============================] - 0s 19ms/step - loss: 2.0766e-05 - val_loss: 2.5850e-05\n",
      "Epoch 12/50\n",
      "12/12 [==============================] - 0s 18ms/step - loss: 2.0808e-05 - val_loss: 2.6174e-05\n",
      "Epoch 13/50\n",
      "12/12 [==============================] - 0s 18ms/step - loss: 2.4535e-05 - val_loss: 3.0913e-05\n",
      "Epoch 14/50\n",
      "12/12 [==============================] - 0s 18ms/step - loss: 2.1801e-05 - val_loss: 2.3746e-05\n",
      "Epoch 15/50\n",
      "12/12 [==============================] - 0s 19ms/step - loss: 2.0873e-05 - val_loss: 2.7165e-05\n",
      "Epoch 16/50\n",
      "12/12 [==============================] - 0s 19ms/step - loss: 2.1243e-05 - val_loss: 2.4212e-05\n",
      "Epoch 17/50\n",
      "12/12 [==============================] - 0s 19ms/step - loss: 2.1553e-05 - val_loss: 2.3826e-05\n",
      "Epoch 18/50\n",
      "12/12 [==============================] - 0s 19ms/step - loss: 2.1361e-05 - val_loss: 2.5015e-05\n",
      "Epoch 19/50\n",
      "12/12 [==============================] - 0s 18ms/step - loss: 2.0691e-05 - val_loss: 2.6213e-05\n",
      "Epoch 20/50\n",
      "12/12 [==============================] - 0s 19ms/step - loss: 2.2869e-05 - val_loss: 2.7105e-05\n",
      "Epoch 21/50\n",
      "12/12 [==============================] - 0s 19ms/step - loss: 2.0874e-05 - val_loss: 2.3946e-05\n",
      "Epoch 22/50\n",
      "12/12 [==============================] - 0s 19ms/step - loss: 2.1091e-05 - val_loss: 2.4275e-05\n",
      "Epoch 23/50\n",
      "12/12 [==============================] - 0s 19ms/step - loss: 2.2748e-05 - val_loss: 3.7944e-05\n",
      "Epoch 24/50\n",
      "12/12 [==============================] - 0s 19ms/step - loss: 2.2685e-05 - val_loss: 2.8792e-05\n",
      "Epoch 25/50\n",
      "12/12 [==============================] - 0s 18ms/step - loss: 2.1784e-05 - val_loss: 2.7000e-05\n",
      "Epoch 26/50\n",
      "12/12 [==============================] - 0s 18ms/step - loss: 2.1579e-05 - val_loss: 2.3797e-05\n",
      "Epoch 27/50\n",
      "12/12 [==============================] - 0s 19ms/step - loss: 2.1448e-05 - val_loss: 2.4730e-05\n",
      "Epoch 28/50\n",
      "12/12 [==============================] - 0s 19ms/step - loss: 2.2313e-05 - val_loss: 2.4684e-05\n",
      "Epoch 29/50\n",
      "12/12 [==============================] - 0s 19ms/step - loss: 2.0912e-05 - val_loss: 2.3750e-05\n",
      "Epoch 30/50\n",
      "12/12 [==============================] - 0s 18ms/step - loss: 2.2671e-05 - val_loss: 2.5841e-05\n",
      "Epoch 31/50\n",
      "12/12 [==============================] - 0s 18ms/step - loss: 2.1534e-05 - val_loss: 3.0937e-05\n",
      "Epoch 32/50\n",
      "12/12 [==============================] - 0s 18ms/step - loss: 2.2401e-05 - val_loss: 3.9506e-05\n",
      "Epoch 33/50\n",
      "12/12 [==============================] - 0s 19ms/step - loss: 2.2943e-05 - val_loss: 3.4755e-05\n",
      "Epoch 34/50\n",
      "12/12 [==============================] - 0s 18ms/step - loss: 2.2432e-05 - val_loss: 2.4470e-05\n",
      "Epoch 35/50\n",
      "12/12 [==============================] - 0s 18ms/step - loss: 2.0589e-05 - val_loss: 2.3965e-05\n",
      "Epoch 36/50\n",
      "12/12 [==============================] - 0s 18ms/step - loss: 2.0321e-05 - val_loss: 2.6750e-05\n",
      "Epoch 37/50\n",
      "12/12 [==============================] - 0s 21ms/step - loss: 2.0622e-05 - val_loss: 2.7594e-05\n",
      "Epoch 38/50\n",
      "12/12 [==============================] - 0s 18ms/step - loss: 2.1039e-05 - val_loss: 2.3511e-05\n",
      "Epoch 39/50\n",
      "12/12 [==============================] - 0s 19ms/step - loss: 2.1807e-05 - val_loss: 2.3474e-05\n",
      "Epoch 40/50\n",
      "12/12 [==============================] - 0s 19ms/step - loss: 2.1442e-05 - val_loss: 2.3558e-05\n",
      "Epoch 41/50\n",
      "12/12 [==============================] - 0s 19ms/step - loss: 2.0642e-05 - val_loss: 2.5407e-05\n",
      "Epoch 42/50\n",
      "12/12 [==============================] - 0s 19ms/step - loss: 2.0817e-05 - val_loss: 2.4189e-05\n",
      "Epoch 43/50\n",
      "12/12 [==============================] - 0s 19ms/step - loss: 2.1205e-05 - val_loss: 2.5901e-05\n",
      "Epoch 44/50\n",
      "12/12 [==============================] - 0s 18ms/step - loss: 2.1046e-05 - val_loss: 3.0404e-05\n",
      "Epoch 45/50\n",
      "12/12 [==============================] - 0s 18ms/step - loss: 2.3270e-05 - val_loss: 2.3432e-05\n",
      "Epoch 46/50\n",
      "12/12 [==============================] - 0s 19ms/step - loss: 2.0867e-05 - val_loss: 2.8429e-05\n",
      "Epoch 47/50\n",
      "12/12 [==============================] - 0s 19ms/step - loss: 2.2151e-05 - val_loss: 2.3825e-05\n",
      "Epoch 48/50\n",
      "12/12 [==============================] - 0s 18ms/step - loss: 2.3654e-05 - val_loss: 2.6074e-05\n",
      "Epoch 49/50\n",
      "12/12 [==============================] - 0s 18ms/step - loss: 2.4099e-05 - val_loss: 2.3404e-05\n",
      "Epoch 50/50\n",
      "12/12 [==============================] - 0s 19ms/step - loss: 2.0385e-05 - val_loss: 2.4261e-05\n",
      "24/24 [==============================] - 0s 4ms/step - loss: 2.0722e-04\n"
     ]
    }
   ],
   "source": [
    "dir = \"/home/whfhrs3260/csv_data/price_data_score_10years.csv\"\n",
    "stock = \"AAPL\"\n",
    "variable = [\"before_close\",\"Score\"]\n",
    "window_size = 3\n",
    "start_date = \"2010-07-01\"\n",
    "end_date = \"2020-07-31\"\n",
    "\n",
    "scaler_x, scaler_y,x, y, x_t, y_t = tt.train_test_result(dir, stock, variable, window_size, start_date, end_date)\n",
    "\n",
    "gru_model = Sequential()\n",
    "gru_model.add(GRU(128, input_shape = (x.shape[1],x.shape[2]),return_sequences=True))\n",
    "gru_model.add(GRU(64))\n",
    "gru_model.add(Dense(32))\n",
    "gru_model.add(Dense(1))\n",
    "adam = optimizers.Adam(lr=0.0005)\n",
    "gru_model.compile(optimizer=adam, loss = 'mse')\n",
    "history = gru_model.fit(x, y, epochs=50, batch_size=128, validation_split=0.2)\n",
    "    \n",
    "gru_pred = gru_model.evaluate(x_t, y_t)"
   ]
  },
  {
   "cell_type": "code",
   "execution_count": null,
   "id": "0b202bea-069c-426b-8f25-f506c6ac5116",
   "metadata": {},
   "outputs": [
    {
     "name": "stdout",
     "output_type": "stream",
     "text": [
      "24/24 [==============================] - 1s 4ms/step\n"
     ]
    },
    {
     "data": {
      "text/plain": [
       "(<tf.Tensor: shape=(), dtype=float64, numpy=1.4062663128261512>,\n",
       " 1.9775849425896583,\n",
       " 0.9320969983151085,\n",
       " 1.7086770305212193)"
      ]
     },
     "execution_count": 11,
     "metadata": {},
     "output_type": "execute_result"
    }
   ],
   "source": [
    "gru_pred = gru_model.predict(x_t)\n",
    "gru_pred = scaler_y.inverse_transform(gru_pred)\n",
    "y_t = scaler_y.inverse_transform(y_t)\n",
    "root_mean_squared_error(y_t, gru_pred), mean_squared_error(y_t, gru_pred), mean_absolute_error(y_t, gru_pred), MAPE(y_t, gru_pred)"
   ]
  },
  {
   "cell_type": "code",
   "execution_count": 17,
   "id": "329200b1-a127-4891-9a46-77c9ec11420f",
   "metadata": {},
   "outputs": [],
   "source": [
    "#################################### 2 variable(news, close 사용) #####################################"
   ]
  },
  {
   "cell_type": "code",
   "execution_count": 12,
   "id": "ae35d351-54b3-4feb-af1e-f63b364ec7e9",
   "metadata": {
    "scrolled": true,
    "tags": []
   },
   "outputs": [
    {
     "name": "stdout",
     "output_type": "stream",
     "text": [
      "[*********************100%***********************]  1 of 1 completed\n"
     ]
    },
    {
     "name": "stderr",
     "output_type": "stream",
     "text": [
      "/home/whfhrs3260/Python/10year_data/review/train_test.py:69: SettingWithCopyWarning: \n",
      "A value is trying to be set on a copy of a slice from a DataFrame\n",
      "\n",
      "See the caveats in the documentation: https://pandas.pydata.org/pandas-docs/stable/user_guide/indexing.html#returning-a-view-versus-a-copy\n",
      "  set_news_data_date.price_date[i]=standard  + datetime.timedelta(days=1)\n"
     ]
    },
    {
     "name": "stdout",
     "output_type": "stream",
     "text": [
      "[*********************100%***********************]  1 of 1 completed\n"
     ]
    },
    {
     "name": "stderr",
     "output_type": "stream",
     "text": [
      "/home/whfhrs3260/Python/10year_data/review/train_test.py:110: SettingWithCopyWarning: \n",
      "A value is trying to be set on a copy of a slice from a DataFrame\n",
      "\n",
      "See the caveats in the documentation: https://pandas.pydata.org/pandas-docs/stable/user_guide/indexing.html#returning-a-view-versus-a-copy\n",
      "  price_data.before_close[i+1] = price_data.Close[i]\n"
     ]
    },
    {
     "name": "stdout",
     "output_type": "stream",
     "text": [
      "Epoch 1/50\n"
     ]
    },
    {
     "name": "stderr",
     "output_type": "stream",
     "text": [
      "/home/whfhrs3260/.local/lib/python3.8/site-packages/keras/optimizers/optimizer_v2/adam.py:117: UserWarning: The `lr` argument is deprecated, use `learning_rate` instead.\n",
      "  super().__init__(name, **kwargs)\n"
     ]
    },
    {
     "name": "stdout",
     "output_type": "stream",
     "text": [
      "12/12 [==============================] - 3s 65ms/step - loss: 0.0136 - val_loss: 0.0694\n",
      "Epoch 2/50\n",
      "12/12 [==============================] - 0s 17ms/step - loss: 0.0057 - val_loss: 0.0195\n",
      "Epoch 3/50\n",
      "12/12 [==============================] - 0s 19ms/step - loss: 0.0019 - val_loss: 0.0069\n",
      "Epoch 4/50\n",
      "12/12 [==============================] - 0s 19ms/step - loss: 2.5327e-04 - val_loss: 3.7255e-04\n",
      "Epoch 5/50\n",
      "12/12 [==============================] - 0s 19ms/step - loss: 1.9809e-04 - val_loss: 2.3347e-04\n",
      "Epoch 6/50\n",
      "12/12 [==============================] - 0s 19ms/step - loss: 1.2083e-04 - val_loss: 4.5253e-04\n",
      "Epoch 7/50\n",
      "12/12 [==============================] - 0s 19ms/step - loss: 8.4687e-05 - val_loss: 4.7284e-04\n",
      "Epoch 8/50\n",
      "12/12 [==============================] - 0s 19ms/step - loss: 7.1176e-05 - val_loss: 2.0740e-04\n",
      "Epoch 9/50\n",
      "12/12 [==============================] - 0s 19ms/step - loss: 6.1585e-05 - val_loss: 1.7152e-04\n",
      "Epoch 10/50\n",
      "12/12 [==============================] - 0s 19ms/step - loss: 5.1234e-05 - val_loss: 1.8093e-04\n",
      "Epoch 11/50\n",
      "12/12 [==============================] - 0s 18ms/step - loss: 4.7850e-05 - val_loss: 2.0407e-04\n",
      "Epoch 12/50\n",
      "12/12 [==============================] - 0s 19ms/step - loss: 4.3886e-05 - val_loss: 1.7089e-04\n",
      "Epoch 13/50\n",
      "12/12 [==============================] - 0s 19ms/step - loss: 4.1725e-05 - val_loss: 1.6153e-04\n",
      "Epoch 14/50\n",
      "12/12 [==============================] - 0s 19ms/step - loss: 4.0968e-05 - val_loss: 1.6917e-04\n",
      "Epoch 15/50\n",
      "12/12 [==============================] - 0s 19ms/step - loss: 3.9219e-05 - val_loss: 1.6243e-04\n",
      "Epoch 16/50\n",
      "12/12 [==============================] - 0s 19ms/step - loss: 3.8640e-05 - val_loss: 1.6576e-04\n",
      "Epoch 17/50\n",
      "12/12 [==============================] - 0s 19ms/step - loss: 3.9846e-05 - val_loss: 1.6310e-04\n",
      "Epoch 18/50\n",
      "12/12 [==============================] - 0s 19ms/step - loss: 3.8583e-05 - val_loss: 1.6353e-04\n",
      "Epoch 19/50\n",
      "12/12 [==============================] - 0s 19ms/step - loss: 3.9949e-05 - val_loss: 1.7255e-04\n",
      "Epoch 20/50\n",
      "12/12 [==============================] - 0s 18ms/step - loss: 3.9832e-05 - val_loss: 1.6383e-04\n",
      "Epoch 21/50\n",
      "12/12 [==============================] - 0s 19ms/step - loss: 3.8568e-05 - val_loss: 1.6432e-04\n",
      "Epoch 22/50\n",
      "12/12 [==============================] - 0s 19ms/step - loss: 3.8488e-05 - val_loss: 1.6412e-04\n",
      "Epoch 23/50\n",
      "12/12 [==============================] - 0s 19ms/step - loss: 3.9267e-05 - val_loss: 1.6632e-04\n",
      "Epoch 24/50\n",
      "12/12 [==============================] - 0s 19ms/step - loss: 3.9108e-05 - val_loss: 1.6501e-04\n",
      "Epoch 25/50\n",
      "12/12 [==============================] - 0s 20ms/step - loss: 4.0424e-05 - val_loss: 1.6405e-04\n",
      "Epoch 26/50\n",
      "12/12 [==============================] - 0s 19ms/step - loss: 3.8937e-05 - val_loss: 1.6431e-04\n",
      "Epoch 27/50\n",
      "12/12 [==============================] - 0s 19ms/step - loss: 3.8387e-05 - val_loss: 1.6883e-04\n",
      "Epoch 28/50\n",
      "12/12 [==============================] - 0s 19ms/step - loss: 3.9933e-05 - val_loss: 1.7042e-04\n",
      "Epoch 29/50\n",
      "12/12 [==============================] - 0s 18ms/step - loss: 4.0936e-05 - val_loss: 1.7850e-04\n",
      "Epoch 30/50\n",
      "12/12 [==============================] - 0s 19ms/step - loss: 4.0791e-05 - val_loss: 1.6604e-04\n",
      "Epoch 31/50\n",
      "12/12 [==============================] - 0s 19ms/step - loss: 4.0232e-05 - val_loss: 1.6356e-04\n",
      "Epoch 32/50\n",
      "12/12 [==============================] - 0s 19ms/step - loss: 3.9030e-05 - val_loss: 1.7131e-04\n",
      "Epoch 33/50\n",
      "12/12 [==============================] - 0s 19ms/step - loss: 3.8149e-05 - val_loss: 1.6357e-04\n",
      "Epoch 34/50\n",
      "12/12 [==============================] - 0s 19ms/step - loss: 3.8638e-05 - val_loss: 1.6418e-04\n",
      "Epoch 35/50\n",
      "12/12 [==============================] - 0s 19ms/step - loss: 3.9604e-05 - val_loss: 1.6533e-04\n",
      "Epoch 36/50\n",
      "12/12 [==============================] - 0s 19ms/step - loss: 3.8889e-05 - val_loss: 1.6824e-04\n",
      "Epoch 37/50\n",
      "12/12 [==============================] - 0s 19ms/step - loss: 3.8968e-05 - val_loss: 1.6391e-04\n",
      "Epoch 38/50\n",
      "12/12 [==============================] - 0s 19ms/step - loss: 3.8017e-05 - val_loss: 1.6341e-04\n",
      "Epoch 39/50\n",
      "12/12 [==============================] - 0s 19ms/step - loss: 3.9045e-05 - val_loss: 1.6394e-04\n",
      "Epoch 40/50\n",
      "12/12 [==============================] - 0s 19ms/step - loss: 3.8214e-05 - val_loss: 1.6393e-04\n",
      "Epoch 41/50\n",
      "12/12 [==============================] - 0s 19ms/step - loss: 3.9377e-05 - val_loss: 1.6369e-04\n",
      "Epoch 42/50\n",
      "12/12 [==============================] - 0s 18ms/step - loss: 3.9023e-05 - val_loss: 1.6402e-04\n",
      "Epoch 43/50\n",
      "12/12 [==============================] - 0s 18ms/step - loss: 3.8513e-05 - val_loss: 1.6821e-04\n",
      "Epoch 44/50\n",
      "12/12 [==============================] - 0s 19ms/step - loss: 3.8156e-05 - val_loss: 1.6410e-04\n",
      "Epoch 45/50\n",
      "12/12 [==============================] - 0s 18ms/step - loss: 3.8529e-05 - val_loss: 1.6316e-04\n",
      "Epoch 46/50\n",
      "12/12 [==============================] - 0s 19ms/step - loss: 3.9287e-05 - val_loss: 1.6985e-04\n",
      "Epoch 47/50\n",
      "12/12 [==============================] - 0s 19ms/step - loss: 3.8232e-05 - val_loss: 1.6315e-04\n",
      "Epoch 48/50\n",
      "12/12 [==============================] - 0s 19ms/step - loss: 3.8395e-05 - val_loss: 1.6594e-04\n",
      "Epoch 49/50\n",
      "12/12 [==============================] - 0s 19ms/step - loss: 3.9504e-05 - val_loss: 1.7367e-04\n",
      "Epoch 50/50\n",
      "12/12 [==============================] - 0s 19ms/step - loss: 3.9771e-05 - val_loss: 1.6711e-04\n",
      "25/25 [==============================] - 0s 4ms/step - loss: 3.3446e-04\n"
     ]
    }
   ],
   "source": [
    "dir = \"/home/whfhrs3260/csv_data/price_data_score_10years.csv\"\n",
    "stock = \"^DJI\"\n",
    "variable = [\"before_close\",\"Score\"]\n",
    "window_size = 3\n",
    "start_date = \"2012-01-01\"\n",
    "end_date = \"2022-04-30\"\n",
    "\n",
    "scaler_x, scaler_y,x, y, x_t, y_t = tt.train_test_result(dir, stock, variable, window_size, start_date, end_date)\n",
    "\n",
    "gru_model = Sequential()\n",
    "gru_model.add(GRU(128, input_shape = (x.shape[1],x.shape[2]),return_sequences=True))\n",
    "gru_model.add(GRU(64))\n",
    "gru_model.add(Dense(32))\n",
    "gru_model.add(Dense(1))\n",
    "adam = optimizers.Adam(lr=0.0005)\n",
    "gru_model.compile(optimizer=adam, loss = 'mse')\n",
    "history = gru_model.fit(x, y, epochs=50, batch_size=128, validation_split=0.2)\n",
    "    \n",
    "gru_pred = gru_model.evaluate(x_t, y_t)"
   ]
  },
  {
   "cell_type": "code",
   "execution_count": 13,
   "id": "0a0e597e-dcc3-49e2-84a3-3073179160d6",
   "metadata": {},
   "outputs": [
    {
     "data": {
      "text/plain": [
       "0.00033445542794652283"
      ]
     },
     "execution_count": 13,
     "metadata": {},
     "output_type": "execute_result"
    }
   ],
   "source": [
    "gru_pred"
   ]
  },
  {
   "cell_type": "code",
   "execution_count": 14,
   "id": "26fbc9cd-d64e-4ad0-843a-dfb7a69a542e",
   "metadata": {},
   "outputs": [
    {
     "name": "stdout",
     "output_type": "stream",
     "text": [
      "25/25 [==============================] - 1s 4ms/step\n"
     ]
    },
    {
     "data": {
      "text/plain": [
       "(<tf.Tensor: shape=(), dtype=float64, numpy=451.68348165051543>,\n",
       " 204017.9675959315,\n",
       " 303.9288791372108,\n",
       " 1.070253843583385)"
      ]
     },
     "execution_count": 14,
     "metadata": {},
     "output_type": "execute_result"
    }
   ],
   "source": [
    "gru_pred = gru_model.predict(x_t)\n",
    "gru_pred = scaler_y.inverse_transform(gru_pred)\n",
    "y_t = scaler_y.inverse_transform(y_t)\n",
    "root_mean_squared_error(y_t, gru_pred), mean_squared_error(y_t, gru_pred), mean_absolute_error(y_t, gru_pred), MAPE(y_t, gru_pred)"
   ]
  },
  {
   "cell_type": "code",
   "execution_count": 15,
   "id": "4cbb2570-e4bd-4669-ae24-7df65a314c73",
   "metadata": {},
   "outputs": [],
   "source": [
    "dir_model = \"/home/whfhrs3260/model/\"\n",
    "#gru_model.save(dir_model + 'gru_128_64_32_window30_10years.h5')"
   ]
  },
  {
   "cell_type": "code",
   "execution_count": null,
   "id": "2b112e8c-478c-4bb5-b336-e9254349c48f",
   "metadata": {},
   "outputs": [],
   "source": []
  },
  {
   "cell_type": "code",
   "execution_count": null,
   "id": "7491acb2-74ed-4068-8ad4-ac95e638fd41",
   "metadata": {},
   "outputs": [],
   "source": []
  },
  {
   "cell_type": "code",
   "execution_count": null,
   "id": "2d0bfb50-9f74-4cba-a8f2-6881a794a8b1",
   "metadata": {},
   "outputs": [],
   "source": []
  },
  {
   "cell_type": "code",
   "execution_count": null,
   "id": "f3a183d4-06e3-4780-a9c7-31f1df91257b",
   "metadata": {},
   "outputs": [],
   "source": [
    "from keras.models import load_model\n",
    "\n",
    "# GRU\n",
    "dir = \"/home/whfhrs3260/csv_data/price_data_score_10years.csv\"\n",
    "stock = \"^DJI\"\n",
    "variable = [\"before_close\",\"Score\"]\n",
    "window_size = 30\n",
    "start_date = \"2012-01-01\"\n",
    "end_date = \"2022-04-30\"\n",
    "\n",
    "scaler_x, scaler_y,x, y, x_t, y_t = tt.train_test_result(dir, stock, variable, window_size, start_date, end_date)\n",
    "\n",
    "gru_model = load_model(dir_model + 'gru_128_64_32_window30_10years.h5', custom_objects ={\"root_mean_squared_error\" : root_mean_squared_error})\n",
    "gru_pred = gru_model.predict(x_t)\n",
    "gru_model.evaluate(x_t,y_t)"
   ]
  },
  {
   "cell_type": "code",
   "execution_count": null,
   "id": "ef891671-2ac2-4c2f-9e2b-fe911b201e19",
   "metadata": {},
   "outputs": [],
   "source": [
    "gru_pred = scaler_y.inverse_transform(gru_pred)\n",
    "y_t = scaler_y.inverse_transform(y_t)\n",
    "root_mean_squared_error(y_t, gru_pred), mean_squared_error(y_t, gru_pred), mean_absolute_error(y_t, gru_pred), MAPE(y_t, gru_pred)"
   ]
  }
 ],
 "metadata": {
  "kernelspec": {
   "display_name": "Python 3 (ipykernel)",
   "language": "python",
   "name": "python3"
  },
  "language_info": {
   "codemirror_mode": {
    "name": "ipython",
    "version": 3
   },
   "file_extension": ".py",
   "mimetype": "text/x-python",
   "name": "python",
   "nbconvert_exporter": "python",
   "pygments_lexer": "ipython3",
   "version": "3.8.10"
  }
 },
 "nbformat": 4,
 "nbformat_minor": 5
}
