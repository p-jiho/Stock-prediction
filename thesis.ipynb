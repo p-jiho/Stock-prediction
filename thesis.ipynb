{
 "cells": [
  {
   "cell_type": "markdown",
   "id": "d025840f-3695-4ff2-8b8b-a127919e98fe",
   "metadata": {},
   "source": [
    "- Predicting stock market behavior using data mining technique and news sentiment analysis\n",
    "    - Ayman E.Khedr, S.E.Salama, Nagwa Yaseen, 2017년 논문\n",
    "    - sentiment analysis, 감성사전이 아닌 Naivs Bayes, K-NN 사용\n",
    "    - TF-Idf 사용\n",
    "    - 주가나 뉴스의 값 그대로가 아닌 positive, negetive 등으로 분류해 사용\n",
    "    - 복수의 뉴스 사용 -> 언급이 자세히 되어있지 않아 메일 보냄\n",
    "    - 결론 : 나이브 분류 + KNN을 사용한 모델이 정확도 86%로 높은 정확도를 보인다.(정확한 주가 예측이 아닌 오르내림을 예측)"
   ]
  },
  {
   "cell_type": "markdown",
   "id": "992ff9d2-acc0-4c2d-ba2f-4a3947110e4d",
   "metadata": {},
   "source": [
    "- Combining Time Series and Sentiment analysis for Stock Market Forecasting\n",
    "    - Hsiao-Chuan Chou, Kandethody M.Ramachandran, 2021\n",
    "    - minmaxscaler, log 변환으로 price data 변혼\n",
    "    - 평가 : MAPE, MAE, RMSE\n",
    "    - 데이터의 양이 상당히 적음\n",
    "    - 모델 : SVR, LSTM, Bi-LSTM, CNN, BERT+SVR 등등 결합하여 사용\n",
    "    - sentiment 분석 사용, 워드임베딩을 사용하기도 함"
   ]
  },
  {
   "cell_type": "markdown",
   "id": "b161ef11-d8f8-4565-8639-cb49dea4d041",
   "metadata": {},
   "source": [
    "- Stock Market Prediction Analysis by Incorporating Social and News Opinion and Sentiment\n",
    "    - Zhaoxia WANG, Seng-Beng HO, Zhiping LIN,2018\n",
    "    - NY Times Archive API를 사용하여 news 수집\n",
    "    - sentiment analysis 사용 - SentiMO, vader sentiment analyzer 사용\n",
    "    - MSE를 사용\n",
    "    - 뉴스가 작성된 후 6일 이후의 종가를 예측한 경우가 가장 정확도가 높음\n",
    "    - 딥러닝 모델이아닌 trainlm과 같은 알고리즘을 4개 사용\n",
    "    - 결론 sentiment 분석은 주가 예측에 큰 도움을 준다. 후에 적절한 sentiment와 parameter을 구하는 것이 필요하다."
   ]
  },
  {
   "cell_type": "markdown",
   "id": "531538cc-1cb1-4640-9fd1-87ab0a5cb1cb",
   "metadata": {},
   "source": [
    "- Stock prediction using combination of BERT sentiment Analysis and macro economy index\n",
    "    - Euna Jang, HoeRyeon Choi, HongChul Lee, 2020\n",
    "    - BERT+LSTM, sentiment analysis로 LSTK VADER을 사용\n",
    "    - get_data_yahoo API를 사용\n",
    "    - headline 데이터 수집\n",
    "    - 공휴일과 주말은 제외 시킴 -> 문제점으로 보임\n",
    "    - 하루에 여러 뉴스는 감성 점수의 평균을 내서 처리\n",
    "    - MSE, RMSE를 사용\n",
    "    - 단점으로 headline만 사용한 것을 언급\n",
    "    - 공유일과 주말의 데이터를 그냥 제외한 것이 단점으로 보임\n",
    "    - 장점은 텍스트 데이터 뿐만아닌 유가, 환율도 고려"
   ]
  },
  {
   "cell_type": "markdown",
   "id": "fe466bfc-aed8-4fba-b886-eda5eb2902d9",
   "metadata": {},
   "source": [
    "- Stock Market Trend Forecasting Based on Multiple Textual Features: A Deep Learning Method\n",
    "    - Zhenda Hu, Zhaoxia Wang, Seng-Beng Ho, Ah-Hwee Tan, 2021\n",
    "    - 세번째 논문을 쓴 사람들이 다시 집필한 논문\n",
    "    - 기사가 작성된 후 그 다음 날을 예측\n",
    "    - news의 title과 body를 사용\n",
    "    - 다음 날을 예측, 주말은 그 다음 장이 열리는 날로 예측\n",
    "    - 시가를 사용해 상승 비율을 체크하고 30%를 기준으로 -1, 0, 1로 나눔\n",
    "    - 데이터는  70%, 30%로 나눔\n",
    "    - topic features는 LDA로, sentiment는 NLTK로, semantic은 word embedding으로 수행하였다. => word embedding과정 중 하루의 많은 news를 어떻게 처리한 것인지 질문드림\n",
    "    - FNN, CNN, LSTM을 사용\n",
    "    - 평가 방법은 accuracy와 F1을 사용\n",
    "    - 종가가 아닌 class로 분류한 1,0,-1값을 y값으로 사용"
   ]
  },
  {
   "cell_type": "markdown",
   "id": "33c2255c-9067-4238-a030-f5d65c17fc93",
   "metadata": {},
   "source": [
    "- 뉴스와 주가 : 빅데이터 감성분석을 통한 지능형 투자의사결정모형\n",
    "    - 김유신, 김남규, 정승렬, 2012\n",
    "    - 뉴스의 내용, 매체, 시간, 뉴스 유형 등을 다양하게 실시간으로 수집\n",
    "    - 뉴스 컨텐츠의 텍스트를 형태소로 분리하여 극성을 판단할 수 있는 단어를 도출, 긍정/부정 사전과 비교해 극성을 태깅\n",
    "    - 인덱싱 된 분류정보와 스코어링룰을 이용해 긍정/부정 극성을 판별하고 일별 스코어링 기준에 의해 최종 투자의사결정 정보를 도출\n",
    "    - 각 단어를 긍정(1), 부정(0)으로 태깅 -> 전체 글의 긍정/부정 비율로 합산 => 52이상은 긍정, 48이하는 부정, 그 사이는 중립으로 판별, 하루 동안 발생하는 뉴스를 결합\n",
    "    - 투자의사결정 회귀함수를 통해 Buy/Sell 로 의견 제시\n",
    "    - 기간 : 2011년 7월 부터 9월까지 총 3개월\n",
    "    - 데이터 : KOSPI 지수와 등락폭, 네이버 주요뉴스에 게재된 기사 중 실시간 M사의 기사 766건 수집\n",
    "    - seHANA SW를 사용, IBM-PASW 18로 통계 분석\n",
    "    - 결과 : 시간 기준 별 구분과 주가 등락은 무관\n",
    "    - 결과 : 뉴스 유형 중 시황, 전망, 해외뉴스 만이 주가 등락과 유의한 관계를 가짐\n",
    "    - 회귀분석을 이용한 T-검정\n",
    "    - 한계점 : 데이터가 충분하지 못함, 주식시장에 특화된 도메인 감성사전 구축 필요, 투자 시뮬레이션으로 예측력과 정확도 상승"
   ]
  },
  {
   "cell_type": "markdown",
   "id": "eb63629e-ef26-409e-996b-4d8f13ff1274",
   "metadata": {},
   "source": [
    "- forecasting stock market trends using news headline analysis\n",
    "    - sukriti jaitly, mohak verma, 2021\n",
    "    - 기간 : 2008년 8월 8일부터 2016년 1월 7일 까지, 총 73608개의 뉴스\n",
    "    - 데이터 : reddit을 이용하여 뉴스 수집, 다우존스 뉴스 사용\n",
    "    - price 데이터에서 시가-종가, 고가-시가, 시가-저가 그리고 주가가 증가하면 1, 감소하면 0으로 Target variable을 추가\n",
    "    - NLTK를 사용하여 감정분석, SIA를 이용함. => 부정은 0, 긍정은 1\n",
    "    - 전처리는 토큰화, 표제어추출, 불용어 제거를 하였다.\n",
    "    - 로지스틱 회귀분석, XGBoost, 딥러닝 중 로지스틱 회귀분석의 정확도가 높았다.\n",
    "    - 결론 : 뉴스와 주가는 연관이 있다."
   ]
  },
  {
   "cell_type": "markdown",
   "id": "7a1da266-9df0-46e9-8c0d-ea5a1f2dddfb",
   "metadata": {},
   "source": [
    "- Stock price prediction using BERT and GAN\n",
    "    - technical indicators : moving average, bollinger Bands, Moving Average Convergence Divergence, RSI, Fourier transforms, NYSE, NASDAQ, S&P 500, stock exchange index(London, india, tokyo, hong kong, shanghai, chicage), oil, gold, us-dollar, google, amazon, microsoft\n",
    "    - sentiment anlaysis를 사용 : finBERT를 이용\n",
    "    - LSTM, GRU, ARIMA, GAN을 사용\n",
    "    - historical data : APPLE(시가, 저가, 고가, 종가, adjusted close price, volume)\n",
    "    - 기간 : 2010년 7월부터 2020년 7월까지\n",
    "    - minmax scaler 사용\n",
    "    - time series는 무조건 3일\n",
    "    - 7:3의 비율로 train:test\n",
    "    - 총 2517일 이므로 (2517,37)이 데이터 shape이었으나 time-step에 의해서 (2494, 3, 37)로 변경"
   ]
  },
  {
   "cell_type": "markdown",
   "id": "ca794e44-9aa7-4c3e-b37b-f6a683dc0518",
   "metadata": {},
   "source": [
    "- Stock price prediction based on grey relational analysis and suport vector regression\n",
    "    - 2015년 4월 1일 ~ 2015년 4월 29일, Vanke A shares 데이터로 GRA를 이용해 유용한 indicator만 분류한 결과 거래량을 제외한 opening price, highest price, lowest price, closing price, MACD, K value, D value, WR만 유용\n",
    "    - 우연성 제거 후 8개의 indicator로 다시해본 결과 closing price, highest price, lowest price, opening price, MACD만 유용\n",
    "    - 2015년 4월 20일 ~ 2015년 5월 18일 Ninghu Expressway share을 train data, 2015년 5월 20일 ~ 2015년 6월 16일 데이터를 test data로 사용\n",
    "    - SVR은 Gaussian kernel function을 적용, maximum number of iterations : 200, initial step : 1, fruit fly popluation 갯수 : 20, RMSE 사용, optimal fitness 값 : 1014, c, g : 1\n",
    "    - IFOA를 이용해 최적화 된 c,g를 추출하고 최적화된 SVR 모델 생성\n",
    "    - MSE가 약 0.16"
   ]
  },
  {
   "cell_type": "markdown",
   "id": "5e67d6a8-0d82-41b1-80c9-e518b746eec1",
   "metadata": {},
   "source": [
    "- The optimization of share price prediction model based on support vector machine"
   ]
  },
  {
   "cell_type": "code",
   "execution_count": 1,
   "id": "9bc4bded-e5db-4cfe-bf8e-d82d7d55bd2a",
   "metadata": {},
   "outputs": [],
   "source": [
    "import requests \n",
    "from datetime import datetime \n",
    "import random \n",
    "\n",
    "year = 1964\n",
    "month = 1\n",
    "day = 9\n",
    "api = f\"https://api.nytimes.com/svc/archive/v1/{year}/{month}.json?api-key=G7AS6LA9s8ElEiMAMNYKoWgAFFq4ouAJ\"\n",
    "\n",
    "def filter_by_day(list, day):\n",
    "    result = []\n",
    "    for article in list:\n",
    "        d = datetime.strptime(article[\"pub_date\"], \"%Y-%m-%dT%H:%M:%S%z\")\n",
    "    if d.day == day:\n",
    "        result.append(article)\n",
    "    return result\n",
    "\n",
    "response = requests.get(api)\n",
    "data = response.json()\n",
    "articles = data[\"response\"][\"docs\"]"
   ]
  },
  {
   "cell_type": "code",
   "execution_count": 4,
   "id": "35745199-16d1-41d2-be3b-24769d2464e5",
   "metadata": {},
   "outputs": [
    {
     "data": {
      "text/plain": [
       "<Response [200]>"
      ]
     },
     "execution_count": 4,
     "metadata": {},
     "output_type": "execute_result"
    }
   ],
   "source": [
    "response"
   ]
  }
 ],
 "metadata": {
  "kernelspec": {
   "display_name": "Python 3 (ipykernel)",
   "language": "python",
   "name": "python3"
  },
  "language_info": {
   "codemirror_mode": {
    "name": "ipython",
    "version": 3
   },
   "file_extension": ".py",
   "mimetype": "text/x-python",
   "name": "python",
   "nbconvert_exporter": "python",
   "pygments_lexer": "ipython3",
   "version": "3.8.10"
  }
 },
 "nbformat": 4,
 "nbformat_minor": 5
}
